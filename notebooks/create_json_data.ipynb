{
 "metadata": {
  "language_info": {
   "codemirror_mode": {
    "name": "ipython",
    "version": 3
   },
   "file_extension": ".py",
   "mimetype": "text/x-python",
   "name": "python",
   "nbconvert_exporter": "python",
   "pygments_lexer": "ipython3",
   "version": "3.8.3-final"
  },
  "orig_nbformat": 2,
  "kernelspec": {
   "name": "python3",
   "display_name": "Python 3"
  }
 },
 "nbformat": 4,
 "nbformat_minor": 2,
 "cells": [
  {
   "cell_type": "code",
   "execution_count": 1,
   "metadata": {},
   "outputs": [],
   "source": [
    "import pandas as pd\n",
    "# load the data into a Pandas DataFrame\n",
    "combined_data = pd.read_csv('../data/joined_df_final.csv')"
   ]
  },
  {
   "cell_type": "code",
   "execution_count": 2,
   "metadata": {},
   "outputs": [
    {
     "output_type": "execute_result",
     "data": {
      "text/plain": [
       "(147, 19)"
      ]
     },
     "metadata": {},
     "execution_count": 2
    }
   ],
   "source": [
    "combined_data.shape"
   ]
  },
  {
   "cell_type": "code",
   "execution_count": 3,
   "metadata": {},
   "outputs": [],
   "source": [
    "combined_data.to_json(r'../data/combined_data.json', orient='records')"
   ]
  },
  {
   "cell_type": "code",
   "execution_count": 10,
   "metadata": {},
   "outputs": [],
   "source": [
    "# import json\n",
    "# import pymongo\n",
    "# #conn = 'mongodb://localhost:27017'\n",
    "# conn = 'mongodb://localhost:127.0.01'\n",
    "# client = pymongo.MongoClient(conn)\n",
    "# db = client.combined_data\n",
    "# collection = db.combined_data\n",
    "# data = json.loads(combined_data.to_json(orient='records'))\n",
    "# collection.insert_many(data)\n",
    "# cursor = list(collection.find({}))\n",
    "# for document in cursor:\n",
    "#   print(document)"
   ]
  },
  {
   "cell_type": "code",
   "execution_count": 4,
   "metadata": {},
   "outputs": [],
   "source": [
    "from csv import DictReader\n",
    "import json"
   ]
  },
  {
   "cell_type": "code",
   "execution_count": 6,
   "metadata": {},
   "outputs": [],
   "source": [
    "# from csv import DictReader\n",
    "# import json\n",
    "\n",
    "fieldnames = (\"id\",\t\"County_Month\",\t\"countyFIPS\",\t\"County\",\"Month_Year\",\t\"Covid_Cases\",\t\"year\",\t\"month\",\t\"Month_c\",\t\"Year\",\t\"County_FIPS\",\t\"State FIPS Code\",\t\"County FIPS Code\",\t\"County Name\",\t\"State Abbreviation\",\t\"Month_Year\",\t\"Labor Force\",\t\"Employed\",\"Unemployed\",\t\"Unemployment Rate (%)\")\n",
    "\n",
    "with open('../data/joined_df_final.csv', 'r') as fd:\n",
    "  data = list(DictReader(fd, fieldnames))\n",
    "\n",
    "with open('../data/joined_df_final.json', 'w') as fd:\n",
    "  json.dump(data, fd)"
   ]
  },
  {
   "cell_type": "code",
   "execution_count": null,
   "metadata": {},
   "outputs": [],
   "source": []
  }
 ]
}