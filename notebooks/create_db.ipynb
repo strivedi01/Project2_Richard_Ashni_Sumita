{
 "metadata": {
  "language_info": {
   "codemirror_mode": {
    "name": "ipython",
    "version": 3
   },
   "file_extension": ".py",
   "mimetype": "text/x-python",
   "name": "python",
   "nbconvert_exporter": "python",
   "pygments_lexer": "ipython3",
   "version": "3.8.3-final"
  },
  "orig_nbformat": 2,
  "kernelspec": {
   "name": "python3",
   "display_name": "Python 3"
  }
 },
 "nbformat": 4,
 "nbformat_minor": 2,
 "cells": [
  {
   "cell_type": "code",
   "execution_count": 1,
   "metadata": {},
   "outputs": [],
   "source": [
    "from sqlalchemy import create_engine\n",
    "engine = create_engine('sqlite:///my_db.sqlite', echo=False)"
   ]
  },
  {
   "cell_type": "code",
   "execution_count": 1,
   "metadata": {},
   "outputs": [],
   "source": [
    "# import sqlite3\n",
    "# conn = sqlite3.connect('my_data.db')\n",
    "# c = conn.cursor()"
   ]
  },
  {
   "cell_type": "code",
   "execution_count": 3,
   "metadata": {},
   "outputs": [
    {
     "output_type": "execute_result",
     "data": {
      "text/plain": [
       "<sqlite3.Cursor at 0x1945c4a3f10>"
      ]
     },
     "metadata": {},
     "execution_count": 3
    }
   ],
   "source": [
    "#Execute a query that’ll create a table \n",
    "\n",
    "# c.execute('''CREATE TABLE covid_unemployment_data_v2 (UniqueID,countyFIPS,CountyName,Month_Year,Cases,Month_c,Month,Year,County_FIPS,LaborForce,Employed,Unemployed,UnemploymentRate)''')"
   ]
  },
  {
   "cell_type": "code",
   "execution_count": 10,
   "metadata": {},
   "outputs": [],
   "source": [
    "import pandas as pd\n",
    "# load the data into a Pandas DataFrame\n",
    "covid_unemployment_data = pd.read_csv('../data/joined_df_final.csv')\n",
    "# write the data to a sqlite table\n",
    "covid_unemployment_data.to_sql('covid_unemployment_data', engine, if_exists='append', index = False)"
   ]
  },
  {
   "cell_type": "code",
   "execution_count": 11,
   "metadata": {
    "tags": [
     "outputPrepend"
    ]
   },
   "outputs": [
    {
     "output_type": "stream",
     "name": "stdout",
     "text": [
      " '20-Mar', 2909, 2020, 3, 'Mar', 3, 34, 3, 'Bergen County', ' NJ', 'Mar', 494799, 480046, 14753, 3.0)\n(110, 'Bergen _Apr', 34003, 'Bergen ', '20-Apr', 15610, 2020, 4, 'Apr', 3, 34, 3, 'Bergen County', ' NJ', 'Apr', 477518, 403413, 74105, 15.5)\n(111, 'Bergen _May', 34003, 'Bergen ', '20-May', 18272, 2020, 5, 'May', 3, 34, 3, 'Bergen County', ' NJ', 'May', 485218, 412954, 72264, 14.9)\n(112, 'Bergen _Jun', 34003, 'Bergen ', '20-Jun', 19423, 2020, 6, 'Jun', 3, 34, 3, 'Bergen County', ' NJ', 'Jun', 493158, 411987, 81171, 16.5)\n(113, 'Bergen _Jul', 34003, 'Bergen ', '20-Jul', 20472, 2020, 7, 'Jul', 3, 34, 3, 'Bergen County', ' NJ', 'Jul', 497668, 425789, 71879, 14.4)\n(114, 'Bergen _Aug', 34003, 'Bergen ', '20-Aug', 21600, 2020, 8, 'Aug', 3, 34, 3, 'Bergen County', ' NJ', 'Aug', 492806, 437684, 55122, 11.2)\n(115, 'Burlington _Feb', 34005, 'Burlington ', '20-Feb', 0, 2020, 2, 'Feb', 5, 34, 5, 'Burlington County', ' NJ', 'Feb', 235262, 226480, 8782, 3.7)\n(116, 'Burlington _Mar', 34005, 'Burlington ', '20-Mar', 202, 2020, 3, 'Mar', 5, 34, 5, 'Burlington County', ' NJ', 'Mar', 236872, 229286, 7586, 3.2)\n(117, 'Burlington _Apr', 34005, 'Burlington ', '20-Apr', 2690, 2020, 4, 'Apr', 5, 34, 5, 'Burlington County', ' NJ', 'Apr', 230986, 200040, 30946, 13.4)\n(118, 'Burlington _May', 34005, 'Burlington ', '20-May', 4627, 2020, 5, 'May', 5, 34, 5, 'Burlington County', ' NJ', 'May', 233012, 203531, 29481, 12.7)\n(119, 'Burlington _Jun', 34005, 'Burlington ', '20-Jun', 5168, 2020, 6, 'Jun', 5, 34, 5, 'Burlington County', ' NJ', 'Jun', 234617, 201838, 32779, 14.0)\n(120, 'Burlington _Jul', 34005, 'Burlington ', '20-Jul', 5781, 2020, 7, 'Jul', 5, 34, 5, 'Burlington County', ' NJ', 'Jul', 236554, 207565, 28989, 12.3)\n(121, 'Burlington _Aug', 34005, 'Burlington ', '20-Aug', 6395, 2020, 8, 'Aug', 5, 34, 5, 'Burlington County', ' NJ', 'Aug', 235923, 214027, 21896, 9.3)\n(122, 'Camden _Feb', 34007, 'Camden ', '20-Feb', 0, 2020, 2, 'Feb', 7, 34, 7, 'Camden County', ' NJ', 'Feb', 258589, 246814, 11775, 4.6)\n(123, 'Camden _Mar', 34007, 'Camden ', '20-Mar', 228, 2020, 3, 'Mar', 7, 34, 7, 'Camden County', ' NJ', 'Mar', 260261, 249933, 10328, 4.0)\n(124, 'Camden _Apr', 34007, 'Camden ', '20-Apr', 3519, 2020, 4, 'Apr', 7, 34, 7, 'Camden County', ' NJ', 'Apr', 259701, 217661, 42040, 16.2)\n(125, 'Camden _May', 34007, 'Camden ', '20-May', 6510, 2020, 5, 'May', 7, 34, 7, 'Camden County', ' NJ', 'May', 260938, 221249, 39689, 15.2)\n(126, 'Camden _Jun', 34007, 'Camden ', '20-Jun', 7317, 2020, 6, 'Jun', 7, 34, 7, 'Camden County', ' NJ', 'Jun', 263563, 219741, 43822, 16.6)\n(127, 'Camden _Jul', 34007, 'Camden ', '20-Jul', 8301, 2020, 7, 'Jul', 7, 34, 7, 'Camden County', ' NJ', 'Jul', 264660, 226188, 38472, 14.5)\n(128, 'Camden _Aug', 34007, 'Camden ', '20-Aug', 9157, 2020, 8, 'Aug', 7, 34, 7, 'Camden County', ' NJ', 'Aug', 262315, 232788, 29527, 11.3)\n(129, 'Cape May _Feb', 34009, 'Cape May ', '20-Feb', 0, 2020, 2, 'Feb', 9, 34, 9, 'Cape May County', ' NJ', 'Feb', 41867, 36790, 5077, 12.1)\n(130, 'Cape May _Mar', 34009, 'Cape May ', '20-Mar', 12, 2020, 3, 'Mar', 9, 34, 9, 'Cape May County', ' NJ', 'Mar', 41426, 36903, 4523, 10.9)\n(131, 'Cape May _Apr', 34009, 'Cape May ', '20-Apr', 323, 2020, 4, 'Apr', 9, 34, 9, 'Cape May County', ' NJ', 'Apr', 42045, 30715, 11330, 26.9)\n(132, 'Cape May _May', 34009, 'Cape May ', '20-May', 617, 2020, 5, 'May', 9, 34, 9, 'Cape May County', ' NJ', 'May', 43185, 33438, 9747, 22.6)\n(133, 'Cape May _Jun', 34009, 'Cape May ', '20-Jun', 712, 2020, 6, 'Jun', 9, 34, 9, 'Cape May County', ' NJ', 'Jun', 46891, 37438, 9453, 20.2)\n(134, 'Cape May _Jul', 34009, 'Cape May ', '20-Jul', 806, 2020, 7, 'Jul', 9, 34, 9, 'Cape May County', ' NJ', 'Jul', 47744, 40454, 7290, 15.3)\n(135, 'Cape May _Aug', 34009, 'Cape May ', '20-Aug', 905, 2020, 8, 'Aug', 9, 34, 9, 'Cape May County', ' NJ', 'Aug', 47778, 42404, 5374, 11.2)\n(136, 'Cumberland _Feb', 34011, 'Cumberland ', '20-Feb', 0, 2020, 2, 'Feb', 11, 34, 11, 'Cumberland County', ' NJ', 'Feb', 66290, 61756, 4534, 6.8)\n(137, 'Cumberland _Mar', 34011, 'Cumberland ', '20-Mar', 18, 2020, 3, 'Mar', 11, 34, 11, 'Cumberland County', ' NJ', 'Mar', 66372, 62405, 3967, 6.0)\n(138, 'Cumberland _Apr', 34011, 'Cumberland ', '20-Apr', 723, 2020, 4, 'Apr', 11, 34, 11, 'Cumberland County', ' NJ', 'Apr', 67714, 56567, 11147, 16.5)\n(139, 'Cumberland _May', 34011, 'Cumberland ', '20-May', 2298, 2020, 5, 'May', 11, 34, 11, 'Cumberland County', ' NJ', 'May', 67865, 57612, 10253, 15.1)\n(140, 'Cumberland _Jun', 34011, 'Cumberland ', '20-Jun', 2963, 2020, 6, 'Jun', 11, 34, 11, 'Cumberland County', ' NJ', 'Jun', 67884, 56555, 11329, 16.7)\n(141, 'Cumberland _Jul', 34011, 'Cumberland ', '20-Jul', 3215, 2020, 7, 'Jul', 11, 34, 11, 'Cumberland County', ' NJ', 'Jul', 67136, 57031, 10105, 15.1)\n(142, 'Cumberland _Aug', 34011, 'Cumberland ', '20-Aug', 3573, 2020, 8, 'Aug', 11, 34, 11, 'Cumberland County', ' NJ', 'Aug', 67481, 59691, 7790, 11.5)\n(143, 'Essex _Feb', 34013, 'Essex ', '20-Feb', 0, 2020, 2, 'Feb', 13, 34, 13, 'Essex County', ' NJ', 'Feb', 375825, 357005, 18820, 5.0)\n(144, 'Essex _Mar', 34013, 'Essex ', '20-Mar', 1900, 2020, 3, 'Mar', 13, 34, 13, 'Essex County', ' NJ', 'Mar', 373831, 356621, 17210, 4.6)\n(145, 'Essex _Apr', 34013, 'Essex ', '20-Apr', 13682, 2020, 4, 'Apr', 13, 34, 13, 'Essex County', ' NJ', 'Apr', 366044, 304445, 61599, 16.8)\n(146, 'Essex _May', 34013, 'Essex ', '20-May', 17629, 2020, 5, 'May', 13, 34, 13, 'Essex County', ' NJ', 'May', 373779, 311862, 61917, 16.6)\n(147, 'Essex _Jun', 34013, 'Essex ', '20-Jun', 18758, 2020, 6, 'Jun', 13, 34, 13, 'Essex County', ' NJ', 'Jun', 383713, 311326, 72387, 18.9)\n(148, 'Essex _Jul', 34013, 'Essex ', '20-Jul', 19488, 2020, 7, 'Jul', 13, 34, 13, 'Essex County', ' NJ', 'Jul', 391806, 324539, 67267, 17.2)\n(149, 'Essex _Aug', 34013, 'Essex ', '20-Aug', 20324, 2020, 8, 'Aug', 13, 34, 13, 'Essex County', ' NJ', 'Aug', 383542, 330451, 53091, 13.8)\n(150, 'Gloucester _Feb', 34015, 'Gloucester ', '20-Feb', 0, 2020, 2, 'Feb', 15, 34, 15, 'Gloucester County', ' NJ', 'Feb', 153172, 146539, 6633, 4.3)\n(151, 'Gloucester _Mar', 34015, 'Gloucester ', '20-Mar', 114, 2020, 3, 'Mar', 15, 34, 15, 'Gloucester County', ' NJ', 'Mar', 154124, 148401, 5723, 3.7)\n(152, 'Gloucester _Apr', 34015, 'Gloucester ', '20-Apr', 1251, 2020, 4, 'Apr', 15, 34, 15, 'Gloucester County', ' NJ', 'Apr', 153658, 129341, 24317, 15.8)\n(153, 'Gloucester _May', 34015, 'Gloucester ', '20-May', 2234, 2020, 5, 'May', 15, 34, 15, 'Gloucester County', ' NJ', 'May', 153752, 131509, 22243, 14.5)\n(154, 'Gloucester _Jun', 34015, 'Gloucester ', '20-Jun', 2578, 2020, 6, 'Jun', 15, 34, 15, 'Gloucester County', ' NJ', 'Jun', 154839, 130520, 24319, 15.7)\n(155, 'Gloucester _Jul', 34015, 'Gloucester ', '20-Jul', 3059, 2020, 7, 'Jul', 15, 34, 15, 'Gloucester County', ' NJ', 'Jul', 155087, 134286, 20801, 13.4)\n(156, 'Gloucester _Aug', 34015, 'Gloucester ', '20-Aug', 3685, 2020, 8, 'Aug', 15, 34, 15, 'Gloucester County', ' NJ', 'Aug', 154008, 138295, 15713, 10.2)\n(157, 'Hudson _Feb', 34017, 'Hudson ', '20-Feb', 0, 2020, 2, 'Feb', 17, 34, 17, 'Hudson County', ' NJ', 'Feb', 369783, 356337, 13446, 3.6)\n(158, 'Hudson _Mar', 34017, 'Hudson ', '20-Mar', 1606, 2020, 3, 'Mar', 17, 34, 17, 'Hudson County', ' NJ', 'Mar', 370880, 358576, 12304, 3.3)\n(159, 'Hudson _Apr', 34017, 'Hudson ', '20-Apr', 14916, 2020, 4, 'Apr', 17, 34, 17, 'Hudson County', ' NJ', 'Apr', 358627, 301197, 57430, 16.0)\n(160, 'Hudson _May', 34017, 'Hudson ', '20-May', 18419, 2020, 5, 'May', 17, 34, 17, 'Hudson County', ' NJ', 'May', 366145, 308162, 57983, 15.8)\n(161, 'Hudson _Jun', 34017, 'Hudson ', '20-Jun', 18841, 2020, 6, 'Jun', 17, 34, 17, 'Hudson County', ' NJ', 'Jun', 374136, 307463, 66673, 17.8)\n(162, 'Hudson _Jul', 34017, 'Hudson ', '20-Jul', 19478, 2020, 7, 'Jul', 17, 34, 17, 'Hudson County', ' NJ', 'Jul', 378403, 317760, 60643, 16.0)\n(163, 'Hudson _Aug', 34017, 'Hudson ', '20-Aug', 20144, 2020, 8, 'Aug', 17, 34, 17, 'Hudson County', ' NJ', 'Aug', 373585, 326406, 47179, 12.6)\n(164, 'Hunterdon _Feb', 34019, 'Hunterdon ', '20-Feb', 0, 2020, 2, 'Feb', 19, 34, 19, 'Hunterdon County', ' NJ', 'Feb', 65595, 63361, 2234, 3.4)\n(165, 'Hunterdon _Mar', 34019, 'Hunterdon ', '20-Mar', 97, 2020, 3, 'Mar', 19, 34, 19, 'Hunterdon County', ' NJ', 'Mar', 65151, 63250, 1901, 2.9)\n(166, 'Hunterdon _Apr', 34019, 'Hunterdon ', '20-Apr', 603, 2020, 4, 'Apr', 19, 34, 19, 'Hunterdon County', ' NJ', 'Apr', 61918, 54326, 7592, 12.3)\n(167, 'Hunterdon _May', 34019, 'Hunterdon ', '20-May', 993, 2020, 5, 'May', 19, 34, 19, 'Hunterdon County', ' NJ', 'May', 62914, 55820, 7094, 11.3)\n(168, 'Hunterdon _Jun', 34019, 'Hunterdon ', '20-Jun', 1080, 2020, 6, 'Jun', 19, 34, 19, 'Hunterdon County', ' NJ', 'Jun', 63318, 55447, 7871, 12.4)\n(169, 'Hunterdon _Jul', 34019, 'Hunterdon ', '20-Jul', 1130, 2020, 7, 'Jul', 19, 34, 19, 'Hunterdon County', ' NJ', 'Jul', 64534, 57618, 6916, 10.7)\n(170, 'Hunterdon _Aug', 34019, 'Hunterdon ', '20-Aug', 1212, 2020, 8, 'Aug', 19, 34, 19, 'Hunterdon County', ' NJ', 'Aug', 64209, 59039, 5170, 8.1)\n(171, 'Mercer _Feb', 34021, 'Mercer ', '20-Feb', 0, 2020, 2, 'Feb', 21, 34, 21, 'Mercer County', ' NJ', 'Feb', 207301, 199797, 7504, 3.6)\n(172, 'Mercer _Mar', 34021, 'Mercer ', '20-Mar', 268, 2020, 3, 'Mar', 21, 34, 21, 'Mercer County', ' NJ', 'Mar', 208308, 201768, 6540, 3.1)\n(173, 'Mercer _Apr', 34021, 'Mercer ', '20-Apr', 3937, 2020, 4, 'Apr', 21, 34, 21, 'Mercer County', ' NJ', 'Apr', 202050, 180059, 21991, 10.9)\n(174, 'Mercer _May', 34021, 'Mercer ', '20-May', 6933, 2020, 5, 'May', 21, 34, 21, 'Mercer County', ' NJ', 'May', 203684, 182163, 21521, 10.6)\n(175, 'Mercer _Jun', 34021, 'Mercer ', '20-Jun', 7659, 2020, 6, 'Jun', 21, 34, 21, 'Mercer County', ' NJ', 'Jun', 202832, 177710, 25122, 12.4)\n(176, 'Mercer _Jul', 34021, 'Mercer ', '20-Jul', 8020, 2020, 7, 'Jul', 21, 34, 21, 'Mercer County', ' NJ', 'Jul', 208761, 185029, 23732, 11.4)\n(177, 'Mercer _Aug', 34021, 'Mercer ', '20-Aug', 8333, 2020, 8, 'Aug', 21, 34, 21, 'Mercer County', ' NJ', 'Aug', 207745, 189698, 18047, 8.7)\n(178, 'Middlesex _Feb', 34023, 'Middlesex ', '20-Feb', 0, 2020, 2, 'Feb', 23, 34, 23, 'Middlesex County', ' NJ', 'Feb', 447281, 431391, 15890, 3.6)\n(179, 'Middlesex _Mar', 34023, 'Middlesex ', '20-Mar', 1277, 2020, 3, 'Mar', 23, 34, 23, 'Middlesex County', ' NJ', 'Mar', 441081, 427153, 13928, 3.2)\n(180, 'Middlesex _Apr', 34023, 'Middlesex ', '20-Apr', 11715, 2020, 4, 'Apr', 23, 34, 23, 'Middlesex County', ' NJ', 'Apr', 423155, 363053, 60102, 14.2)\n(181, 'Middlesex _May', 34023, 'Middlesex ', '20-May', 15921, 2020, 5, 'May', 23, 34, 23, 'Middlesex County', ' NJ', 'May', 431564, 373444, 58120, 13.5)\n(182, 'Middlesex _Jun', 34023, 'Middlesex ', '20-Jun', 16816, 2020, 6, 'Jun', 23, 34, 23, 'Middlesex County', ' NJ', 'Jun', 438149, 372705, 65444, 14.9)\n(183, 'Middlesex _Jul', 34023, 'Middlesex ', '20-Jul', 17673, 2020, 7, 'Jul', 23, 34, 23, 'Middlesex County', ' NJ', 'Jul', 450234, 391004, 59230, 13.2)\n(184, 'Middlesex _Aug', 34023, 'Middlesex ', '20-Aug', 18456, 2020, 8, 'Aug', 23, 34, 23, 'Middlesex County', ' NJ', 'Aug', 445786, 400485, 45301, 10.2)\n(185, 'Monmouth _Feb', 34025, 'Monmouth ', '20-Feb', 0, 2020, 2, 'Feb', 25, 34, 25, 'Monmouth County', ' NJ', 'Feb', 335263, 322679, 12584, 3.8)\n(186, 'Monmouth _Mar', 34025, 'Monmouth ', '20-Mar', 1140, 2020, 3, 'Mar', 25, 34, 25, 'Monmouth County', ' NJ', 'Mar', 330098, 319208, 10890, 3.3)\n(187, 'Monmouth _Apr', 34025, 'Monmouth ', '20-Apr', 6033, 2020, 4, 'Apr', 25, 34, 25, 'Monmouth County', ' NJ', 'Apr', 321846, 271602, 50244, 15.6)\n(188, 'Monmouth _May', 34025, 'Monmouth ', '20-May', 8219, 2020, 5, 'May', 25, 34, 25, 'Monmouth County', ' NJ', 'May', 326077, 279749, 46328, 14.2)\n(189, 'Monmouth _Jun', 34025, 'Monmouth ', '20-Jun', 9140, 2020, 6, 'Jun', 25, 34, 25, 'Monmouth County', ' NJ', 'Jun', 330084, 279131, 50953, 15.4)\n(190, 'Monmouth _Jul', 34025, 'Monmouth ', '20-Jul', 10057, 2020, 7, 'Jul', 25, 34, 25, 'Monmouth County', ' NJ', 'Jul', 336278, 292742, 43536, 12.9)\n(191, 'Monmouth _Aug', 34025, 'Monmouth ', '20-Aug', 10734, 2020, 8, 'Aug', 25, 34, 25, 'Monmouth County', ' NJ', 'Aug', 333523, 300466, 33057, 9.9)\n(192, 'Morris _Feb', 34027, 'Morris ', '20-Feb', 0, 2020, 2, 'Feb', 27, 34, 27, 'Morris County', ' NJ', 'Feb', 261338, 252699, 8639, 3.3)\n(193, 'Morris _Mar', 34027, 'Morris ', '20-Mar', 841, 2020, 3, 'Mar', 27, 34, 27, 'Morris County', ' NJ', 'Mar', 259899, 252406, 7493, 2.9)\n(194, 'Morris _Apr', 34027, 'Morris ', '20-Apr', 5287, 2020, 4, 'Apr', 27, 34, 27, 'Morris County', ' NJ', 'Apr', 247877, 215594, 32283, 13.0)\n(195, 'Morris _May', 34027, 'Morris ', '20-May', 6463, 2020, 5, 'May', 27, 34, 27, 'Morris County', ' NJ', 'May', 251580, 220910, 30670, 12.2)\n(196, 'Morris _Jun', 34027, 'Morris ', '20-Jun', 6738, 2020, 6, 'Jun', 27, 34, 27, 'Morris County', ' NJ', 'Jun', 254772, 220436, 34336, 13.5)\n(197, 'Morris _Jul', 34027, 'Morris ', '20-Jul', 7136, 2020, 7, 'Jul', 27, 34, 27, 'Morris County', ' NJ', 'Jul', 259714, 229729, 29985, 11.5)\n(198, 'Morris _Aug', 34027, 'Morris ', '20-Aug', 7491, 2020, 8, 'Aug', 27, 34, 27, 'Morris County', ' NJ', 'Aug', 256962, 234050, 22912, 8.9)\n(199, 'Ocean _Feb', 34029, 'Ocean ', '20-Feb', 0, 2020, 2, 'Feb', 29, 34, 29, 'Ocean County', ' NJ', 'Feb', 281663, 268725, 12938, 4.6)\n(200, 'Ocean _Mar', 34029, 'Ocean ', '20-Mar', 1022, 2020, 3, 'Mar', 29, 34, 29, 'Ocean County', ' NJ', 'Mar', 276776, 265826, 10950, 4.0)\n(201, 'Ocean _Apr', 34029, 'Ocean ', '20-Apr', 6375, 2020, 4, 'Apr', 29, 34, 29, 'Ocean County', ' NJ', 'Apr', 273188, 225983, 47205, 17.3)\n(202, 'Ocean _May', 34029, 'Ocean ', '20-May', 8748, 2020, 5, 'May', 29, 34, 29, 'Ocean County', ' NJ', 'May', 275790, 232692, 43098, 15.6)\n(203, 'Ocean _Jun', 34029, 'Ocean ', '20-Jun', 9614, 2020, 6, 'Jun', 29, 34, 29, 'Ocean County', ' NJ', 'Jun', 278682, 232361, 46321, 16.6)\n(204, 'Ocean _Jul', 34029, 'Ocean ', '20-Jul', 10414, 2020, 7, 'Jul', 29, 34, 29, 'Ocean County', ' NJ', 'Jul', 281878, 243810, 38068, 13.5)\n(205, 'Ocean _Aug', 34029, 'Ocean ', '20-Aug', 11181, 2020, 8, 'Aug', 29, 34, 29, 'Ocean County', ' NJ', 'Aug', 278844, 250059, 28785, 10.3)\n(206, 'Passaic _Feb', 34031, 'Passaic ', '20-Feb', 0, 2020, 2, 'Feb', 31, 34, 31, 'Passaic County', ' NJ', 'Feb', 248840, 236273, 12567, 5.1)\n(207, 'Passaic _Mar', 34031, 'Passaic ', '20-Mar', 1294, 2020, 3, 'Mar', 31, 34, 31, 'Passaic County', ' NJ', 'Mar', 249188, 237780, 11408, 4.6)\n(208, 'Passaic _Apr', 34031, 'Passaic ', '20-Apr', 12449, 2020, 4, 'Apr', 31, 34, 31, 'Passaic County', ' NJ', 'Apr', 249112, 199887, 49225, 19.8)\n(209, 'Passaic _May', 34031, 'Passaic ', '20-May', 16170, 2020, 5, 'May', 31, 34, 31, 'Passaic County', ' NJ', 'May', 251967, 204562, 47405, 18.8)\n(210, 'Passaic _Jun', 34031, 'Passaic ', '20-Jun', 16879, 2020, 6, 'Jun', 31, 34, 31, 'Passaic County', ' NJ', 'Jun', 256795, 203941, 52854, 20.6)\n(211, 'Passaic _Jul', 34031, 'Passaic ', '20-Jul', 17429, 2020, 7, 'Jul', 31, 34, 31, 'Passaic County', ' NJ', 'Jul', 257660, 210665, 46995, 18.2)\n(212, 'Passaic _Aug', 34031, 'Passaic ', '20-Aug', 18351, 2020, 8, 'Aug', 31, 34, 31, 'Passaic County', ' NJ', 'Aug', 253055, 216539, 36516, 14.4)\n(213, 'Salem _Feb', 34033, 'Salem ', '20-Feb', 0, 2020, 2, 'Feb', 33, 34, 33, 'Salem County', ' NJ', 'Feb', 29831, 28107, 1724, 5.8)\n(214, 'Salem _Mar', 34033, 'Salem ', '20-Mar', 12, 2020, 3, 'Mar', 33, 34, 33, 'Salem County', ' NJ', 'Mar', 29909, 28389, 1520, 5.1)\n(215, 'Salem _Apr', 34033, 'Salem ', '20-Apr', 231, 2020, 4, 'Apr', 33, 34, 33, 'Salem County', ' NJ', 'Apr', 29409, 25170, 4239, 14.4)\n(216, 'Salem _May', 34033, 'Salem ', '20-May', 634, 2020, 5, 'May', 33, 34, 33, 'Salem County', ' NJ', 'May', 29772, 25811, 3961, 13.3)\n(217, 'Salem _Jun', 34033, 'Salem ', '20-Jun', 768, 2020, 6, 'Jun', 33, 34, 33, 'Salem County', ' NJ', 'Jun', 29649, 25229, 4420, 14.9)\n(218, 'Salem _Jul', 34033, 'Salem ', '20-Jul', 865, 2020, 7, 'Jul', 33, 34, 33, 'Salem County', ' NJ', 'Jul', 30020, 25910, 4110, 13.7)\n(219, 'Salem _Aug', 34033, 'Salem ', '20-Aug', 980, 2020, 8, 'Aug', 33, 34, 33, 'Salem County', ' NJ', 'Aug', 29866, 26682, 3184, 10.7)\n(220, 'Somerset _Feb', 34035, 'Somerset ', '20-Feb', 0, 2020, 2, 'Feb', 35, 34, 35, 'Somerset County', ' NJ', 'Feb', 174401, 168315, 6086, 3.5)\n(221, 'Somerset _Mar', 34035, 'Somerset ', '20-Mar', 413, 2020, 3, 'Mar', 35, 34, 35, 'Somerset County', ' NJ', 'Mar', 173473, 168167, 5306, 3.1)\n(222, 'Somerset _Apr', 34035, 'Somerset ', '20-Apr', 3464, 2020, 4, 'Apr', 35, 34, 35, 'Somerset County', ' NJ', 'Apr', 164019, 143699, 20320, 12.4)\n(223, 'Somerset _May', 34035, 'Somerset ', '20-May', 4583, 2020, 5, 'May', 35, 34, 35, 'Somerset County', ' NJ', 'May', 166895, 147232, 19663, 11.8)\n(224, 'Somerset _Jun', 34035, 'Somerset ', '20-Jun', 4869, 2020, 6, 'Jun', 35, 34, 35, 'Somerset County', ' NJ', 'Jun', 169215, 146841, 22374, 13.2)\n(225, 'Somerset _Jul', 34035, 'Somerset ', '20-Jul', 5177, 2020, 7, 'Jul', 35, 34, 35, 'Somerset County', ' NJ', 'Jul', 173137, 152982, 20155, 11.6)\n(226, 'Somerset _Aug', 34035, 'Somerset ', '20-Aug', 5420, 2020, 8, 'Aug', 35, 34, 35, 'Somerset County', ' NJ', 'Aug', 171123, 155869, 15254, 8.9)\n(227, 'Sussex _Feb', 34037, 'Sussex ', '20-Feb', 0, 2020, 2, 'Feb', 37, 34, 37, 'Sussex County', ' NJ', 'Feb', 75572, 72232, 3340, 4.4)\n(228, 'Sussex _Mar', 34037, 'Sussex ', '20-Mar', 132, 2020, 3, 'Mar', 37, 34, 37, 'Sussex County', ' NJ', 'Mar', 75027, 72114, 2913, 3.9)\n(229, 'Sussex _Apr', 34037, 'Sussex ', '20-Apr', 921, 2020, 4, 'Apr', 37, 34, 37, 'Sussex County', ' NJ', 'Apr', 74516, 61790, 12726, 17.1)\n(230, 'Sussex _May', 34037, 'Sussex ', '20-May', 1110, 2020, 5, 'May', 37, 34, 37, 'Sussex County', ' NJ', 'May', 74645, 63421, 11224, 15.0)\n(231, 'Sussex _Jun', 34037, 'Sussex ', '20-Jun', 1192, 2020, 6, 'Jun', 37, 34, 37, 'Sussex County', ' NJ', 'Jun', 74999, 63129, 11870, 15.8)\n(232, 'Sussex _Jul', 34037, 'Sussex ', '20-Jul', 1295, 2020, 7, 'Jul', 37, 34, 37, 'Sussex County', ' NJ', 'Jul', 75855, 65687, 10168, 13.4)\n(233, 'Sussex _Aug', 34037, 'Sussex ', '20-Aug', 1399, 2020, 8, 'Aug', 37, 34, 37, 'Sussex County', ' NJ', 'Aug', 74848, 67150, 7698, 10.3)\n(234, 'Union _Feb', 34039, 'Union ', '20-Feb', 0, 2020, 2, 'Feb', 39, 34, 39, 'Union County', ' NJ', 'Feb', 281827, 269659, 12168, 4.3)\n(235, 'Union _Mar', 34039, 'Union ', '20-Mar', 1418, 2020, 3, 'Mar', 39, 34, 39, 'Union County', ' NJ', 'Mar', 280328, 269468, 10860, 3.9)\n(236, 'Union _Apr', 34039, 'Union ', '20-Apr', 12578, 2020, 4, 'Apr', 39, 34, 39, 'Union County', ' NJ', 'Apr', 271937, 230044, 41893, 15.4)\n(237, 'Union _May', 34039, 'Union ', '20-May', 15821, 2020, 5, 'May', 39, 34, 39, 'Union County', ' NJ', 'May', 276606, 235570, 41036, 14.8)\n(238, 'Union _Jun', 34039, 'Union ', '20-Jun', 16297, 2020, 6, 'Jun', 39, 34, 39, 'Union County', ' NJ', 'Jun', 281299, 235116, 46183, 16.4)\n(239, 'Union _Jul', 34039, 'Union ', '20-Jul', 16523, 2020, 7, 'Jul', 39, 34, 39, 'Union County', ' NJ', 'Jul', 286811, 245064, 41747, 14.6)\n(240, 'Union _Aug', 34039, 'Union ', '20-Aug', 17103, 2020, 8, 'Aug', 39, 34, 39, 'Union County', ' NJ', 'Aug', 281642, 249419, 32223, 11.4)\n(241, 'Warren _Feb', 34041, 'Warren ', '20-Feb', 0, 2020, 2, 'Feb', 41, 34, 41, 'Warren County', ' NJ', 'Feb', 57182, 54793, 2389, 4.2)\n(242, 'Warren _Mar', 34041, 'Warren ', '20-Mar', 76, 2020, 3, 'Mar', 41, 34, 41, 'Warren County', ' NJ', 'Mar', 57388, 55337, 2051, 3.6)\n(243, 'Warren _Apr', 34041, 'Warren ', '20-Apr', 903, 2020, 4, 'Apr', 41, 34, 41, 'Warren County', ' NJ', 'Apr', 56731, 48557, 8174, 14.4)\n(244, 'Warren _May', 34041, 'Warren ', '20-May', 1160, 2020, 5, 'May', 41, 34, 41, 'Warren County', ' NJ', 'May', 57348, 50091, 7257, 12.7)\n(245, 'Warren _Jun', 34041, 'Warren ', '20-Jun', 1233, 2020, 6, 'Jun', 41, 34, 41, 'Warren County', ' NJ', 'Jun', 57987, 49969, 8018, 13.8)\n(246, 'Warren _Jul', 34041, 'Warren ', '20-Jul', 1329, 2020, 7, 'Jul', 41, 34, 41, 'Warren County', ' NJ', 'Jul', 58038, 51043, 6995, 12.1)\n(247, 'Warren _Aug', 34041, 'Warren ', '20-Aug', 1395, 2020, 8, 'Aug', 41, 34, 41, 'Warren County', ' NJ', 'Aug', 57772, 52457, 5315, 9.2)\n"
     ]
    }
   ],
   "source": [
    "data = engine.execute(\"SELECT * FROM covid_unemployment_data;\")\n",
    "for record in data:\n",
    "    print(record)"
   ]
  },
  {
   "cell_type": "code",
   "execution_count": null,
   "metadata": {},
   "outputs": [],
   "source": [
    "# Fetch values from sqlite table"
   ]
  },
  {
   "cell_type": "code",
   "execution_count": 12,
   "metadata": {},
   "outputs": [],
   "source": [
    "# c.execute('''SELECT * FROM covid_unemployment_data_v2''').fetchall()"
   ]
  },
  {
   "cell_type": "code",
   "execution_count": null,
   "metadata": {},
   "outputs": [],
   "source": []
  }
 ]
}