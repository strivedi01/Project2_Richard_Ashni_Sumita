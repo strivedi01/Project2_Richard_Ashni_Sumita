{
 "cells": [
  {
   "cell_type": "code",
   "execution_count": 1,
   "metadata": {},
   "outputs": [],
   "source": [
    "#Imports\n",
    "\n",
    "import pandas as pd\n",
    "from sqlalchemy import create_engine\n",
    "from sqlalchemy.orm import sessionmaker\n",
    "from sqlalchemy.ext.declarative import declarative_base\n",
    "from sqlalchemy import Table,Column,Integer,String\n",
    "import glob\n",
    "import os\n",
    "from sqlalchemy import MetaData\n",
    "from sqlalchemy.orm import mapper"
   ]
  },
  {
   "cell_type": "code",
   "execution_count": 6,
   "metadata": {},
   "outputs": [
    {
     "data": {
      "text/plain": [
       "<Mapper at 0x2ca6d6044c0; covid_table>"
      ]
     },
     "execution_count": 6,
     "metadata": {},
     "output_type": "execute_result"
    }
   ],
   "source": [
    "#SQL Alchemy setup\n",
    "\n",
    "#Create engine that will allow us to communicate with database\n",
    "engine=create_engine('sqlite:///covid_dbase.sqlite',echo=False)\n",
    "\n",
    "#Creating session which is the middle ground to talk to our engine\n",
    "Session=sessionmaker(bind=engine)\n",
    "session=Session()\n",
    "\n",
    "#Map which table in database will be related to each class\n",
    "Base=declarative_base()\n",
    "\n",
    "#Create a metadata instance\n",
    "#A metadata is an object container that will store attributes and name of table \n",
    "metadata=MetaData(engine)\n",
    "\n",
    "#Define structure of table\n",
    "class covid_table(object):\n",
    "    def __init__(self,number,description,ref_des):\n",
    "        self.product_id=id\n",
    "        self.County_Month=County_Month\n",
    "        self.countyFIPS=countyFIPS\n",
    "        self.County=County\n",
    "        self.Month_Year=Month_Year\n",
    "        self.Covid_Cases=Covid_Cases\n",
    "#         self.year=year\n",
    "        self.month=month\n",
    "        self.Month_c=Month_c\n",
    "        self.County_FIPS=County_FIPS\n",
    "        self.StateAbbr=StateAbbr\n",
    "        self.LaborForce=LaborForce\n",
    "        self.Employed=Employed\n",
    "        self.Unemployed=Unemployed\n",
    "        self.Unemployment_Rate=Unemployment_Rate\n",
    "\n",
    "    def __repr__(self):\n",
    "        return f'{self.id,self.County_Month,self.countyFIPS,self.County,self.Month_Year,self.Covid_Cases,self.year,self.month,self.Month_c,self.StateAbbr, self.LaborForce,self.Employed,self.Unemployed,self.Unemployment_Rate}'\n",
    "\n",
    "    \n",
    "#Declaring a table\n",
    "#Defining a function that defines table, we define this function so that we can keep table names dynamic\n",
    "#That is, we can have multiple tables in database and each table can have a different name\n",
    "def table_definition(table_name):\n",
    "    #Define table structure, here table_name varies\n",
    "    #We want to make table_define available outside function so we declare it as a function attribute\n",
    "    table_definition.table_define=Table(table_name,metadata,\n",
    "    Column('id',Integer,primary_key=True),\n",
    "    Column('County_Month',String),\n",
    "    Column('countyFIPS',String),\n",
    "    Column('County',String),\n",
    "    Column('Month_Year',String),\n",
    "    Column('Covid_Cases',Integer),\n",
    "    Column('year',Integer),\n",
    "    Column('month',Integer),\n",
    "    Column('Month_c',Integer),\n",
    "    Column('StateAbbr',Integer),\n",
    "    Column('LaborForce',Integer),\n",
    "    Column('Employed',Integer),\n",
    "    Column('Unemployed',Integer),\n",
    "    Column('Unemployment_Rate',Integer)\n",
    "    )\n",
    "    \n",
    "        #Create table\n",
    "    #Note that we used the engine from function\n",
    "    metadata.create_all(engine)\n",
    "    \n",
    "    #Use mapper to define components of class as well as table definition together at once\n",
    "    mapper(covid_table,table_definition.table_define,non_primary=True)\n",
    "\n",
    "    \n",
    "\n",
    "#CREATING A DUMMY BLANK TABLE FOR PRIMARY MAPPER\n",
    "#This avoids error: Class already has a primary mapper defined\n",
    "#We made non_primary=True in table_definition function mapper\n",
    "#This is the work around I could use, maybe there is another way\n",
    "\n",
    "#Define table structure, here table_name varies\n",
    "table_define_dummy=Table('dummy_table',metadata,\n",
    "Column('id',Integer,primary_key=True),\n",
    "Column('County_Month',String),\n",
    "Column('countyFIPS',String),\n",
    "Column('County',String),\n",
    "Column('Month_Year',String),\n",
    "Column('Covid_Cases',Integer),\n",
    "Column('year',Integer),\n",
    "Column('month',Integer),\n",
    "Column('Month_c',Integer),\n",
    "Column('StateAbbr',Integer),\n",
    "Column('LaborForce',Integer),\n",
    "Column('Employed',Integer),\n",
    "Column('Unemployed',Integer),\n",
    "Column('Unemployment_Rate',Integer)\n",
    ")\n",
    "\n",
    "#Create table\n",
    "metadata.create_all(engine)\n",
    "\n",
    "#Use mapper to define components of class as well as table definition together at once\n",
    "mapper(covid_table,table_define_dummy)"
   ]
  },
  {
   "cell_type": "code",
   "execution_count": 8,
   "metadata": {},
   "outputs": [],
   "source": [
    "#This function will create a separate table for each csv file, if you have multiple csv files\n",
    "#Name of table will be extracted from file name. File name contains product name. \n",
    "#Each table will be identified by product name\n",
    "# It will read each excel file in the folder and insert bom into table\n",
    "def create_table(folder_of_files):\n",
    "    \n",
    "    #Get list of files in folder\n",
    "    files=glob.glob(os.path.join(folder_of_files,\"*.csv\"))\n",
    "    \n",
    "    \n",
    "    #Loop through all files in list\n",
    "    for file_name in files:\n",
    "        \n",
    "        #Read file into dataframe\n",
    "        csv_data=pd.read_csv(file_name)\n",
    "        \n",
    "        #Convert dataframe to list and store in same variable\n",
    "        csv_data=csv_data.values.tolist()\n",
    "        \n",
    "        #Get table name from file name. This will be our table name. \n",
    "        table_name_from_file=file_name.split('/')[8][:-4]\n",
    "        \n",
    "        #Use table_definition function to define table structure\n",
    "        table_definition(table_name_from_file)\n",
    "        \n",
    "        #Loop through list of lists, each list in create_bom_table.xls_data is a row\n",
    "        for row in csv_data:\n",
    "            \n",
    "            #Each element in the list is an attribute for the table class\n",
    "            #Iterating through rows and inserting into table\n",
    "            ins=table_definition.table_define.insert().values(\n",
    "            id=row[0],County_Month=row[1],countyFIPS=row[2],County=row[3],Month_Year=row[4],\n",
    "            Covid_Cases=row[5],year=row[6],month=row[7],Month_c=row[8],\n",
    "            StateAbbr=row[9],LaborForce=row[10],Employed=row[11],Unemployed=row[12],Unemployment_Rate=row[13])\n",
    "            conn=engine.connect()\n",
    "            conn.execute(ins)"
   ]
  },
  {
   "cell_type": "code",
   "execution_count": 10,
   "metadata": {},
   "outputs": [
    {
     "ename": "SyntaxError",
     "evalue": "(unicode error) 'unicodeescape' codec can't decode bytes in position 30-31: truncated \\uXXXX escape (<ipython-input-10-8d06edd66345>, line 2)",
     "output_type": "error",
     "traceback": [
      "\u001b[1;36m  File \u001b[1;32m\"<ipython-input-10-8d06edd66345>\"\u001b[1;36m, line \u001b[1;32m2\u001b[0m\n\u001b[1;33m    create_table(\"C:\\\\Users\\\\sumita\\\\Documents\\R\\utgersDS\\\\Project2\\\\Project2_Richard_Ashni_Sumita\\\\notebooks\\\\data_csv\")\u001b[0m\n\u001b[1;37m                 ^\u001b[0m\n\u001b[1;31mSyntaxError\u001b[0m\u001b[1;31m:\u001b[0m (unicode error) 'unicodeescape' codec can't decode bytes in position 30-31: truncated \\uXXXX escape\n"
     ]
    }
   ],
   "source": [
    "#Calling function, argument is path of folder where all CSV files are stored\n",
    "create_table(\"C:\\\\Users\\\\sumita\\\\Documents\\\\RutgersDS\\\\Project2\\\\Project2_Richard_Ashni_Sumita\\\\notebooks\\\\data_csv\")"
   ]
  },
  {
   "cell_type": "code",
   "execution_count": 10,
   "metadata": {},
   "outputs": [],
   "source": []
  },
  {
   "cell_type": "code",
   "execution_count": null,
   "metadata": {},
   "outputs": [],
   "source": []
  }
 ],
 "metadata": {
  "kernelspec": {
   "display_name": "Python 3",
   "language": "python",
   "name": "python3"
  },
  "language_info": {
   "codemirror_mode": {
    "name": "ipython",
    "version": 3
   },
   "file_extension": ".py",
   "mimetype": "text/x-python",
   "name": "python",
   "nbconvert_exporter": "python",
   "pygments_lexer": "ipython3",
   "version": "3.8.3"
  }
 },
 "nbformat": 4,
 "nbformat_minor": 2
}
