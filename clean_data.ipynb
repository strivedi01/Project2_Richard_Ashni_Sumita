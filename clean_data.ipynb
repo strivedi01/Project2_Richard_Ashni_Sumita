{
 "metadata": {
  "language_info": {
   "codemirror_mode": {
    "name": "ipython",
    "version": 3
   },
   "file_extension": ".py",
   "mimetype": "text/x-python",
   "name": "python",
   "nbconvert_exporter": "python",
   "pygments_lexer": "ipython3",
   "version": "3.8.3-final"
  },
  "orig_nbformat": 2,
  "kernelspec": {
   "name": "python3",
   "display_name": "Python 3"
  }
 },
 "nbformat": 4,
 "nbformat_minor": 2,
 "cells": [
  {
   "cell_type": "code",
   "execution_count": 247,
   "metadata": {},
   "outputs": [],
   "source": [
    "#  CLEANING AND JOINING COVID AND EMPLOYMENT DATA \n"
   ]
  },
  {
   "source": [
    "import pandas as pd \n",
    "import numpy as np"
   ],
   "cell_type": "code",
   "metadata": {},
   "execution_count": 248,
   "outputs": []
  },
  {
   "cell_type": "code",
   "execution_count": 249,
   "metadata": {},
   "outputs": [
    {
     "output_type": "execute_result",
     "data": {
      "text/plain": [
       "(3195, 311)"
      ]
     },
     "metadata": {},
     "execution_count": 249
    }
   ],
   "source": [
    "covid_df=pd.read_csv(\"./data/covid_confirmed_usafacts.csv\")\n",
    "covid_df.shape"
   ]
  },
  {
   "source": [
    "#covid_df['State'].value_counts()"
   ],
   "cell_type": "code",
   "metadata": {},
   "execution_count": 250,
   "outputs": []
  },
  {
   "cell_type": "code",
   "execution_count": 251,
   "metadata": {},
   "outputs": [
    {
     "output_type": "execute_result",
     "data": {
      "text/plain": [
       "(22, 311)"
      ]
     },
     "metadata": {},
     "execution_count": 251
    }
   ],
   "source": [
    "covid_NJ = covid_df.loc[covid_df['State']=='NJ']\n",
    "covid_NJ.reset_index(drop=True, inplace=True)\n",
    "covid_NJ.shape"
   ]
  },
  {
   "source": [
    "covid_NJ.head()"
   ],
   "cell_type": "code",
   "metadata": {},
   "execution_count": 252,
   "outputs": [
    {
     "output_type": "execute_result",
     "data": {
      "text/plain": [
       "   countyFIPS            County Name State  stateFIPS  1/22/20  1/23/20  \\\n",
       "0           0  Statewide Unallocated    NJ         34        0        0   \n",
       "1       34001        Atlantic County    NJ         34        0        0   \n",
       "2       34003          Bergen County    NJ         34        0        0   \n",
       "3       34005      Burlington County    NJ         34        0        0   \n",
       "4       34007          Camden County    NJ         34        0        0   \n",
       "\n",
       "   1/24/20  1/25/20  1/26/20  1/27/20  ...  11/14/20  11/15/20  11/16/20  \\\n",
       "0        0        0        0        0  ...       652       669       669   \n",
       "1        0        0        0        0  ...      6448      6555      6608   \n",
       "2        0        0        0        0  ...     28821     29223     29409   \n",
       "3        0        0        0        0  ...     10222     10527     10632   \n",
       "4        0        0        0        0  ...     14464     14863     15032   \n",
       "\n",
       "   11/17/20  11/18/20  11/19/20  11/20/20  11/21/20  11/22/20  11/23/20  \n",
       "0       706       734       734       640       650       697       724  \n",
       "1      6728      6829      6920      7023      7162      7257      7341  \n",
       "2     29800     30224     30666     31006     31447     31851     32245  \n",
       "3     10849     11020     11225     11411     11699     11996     12174  \n",
       "4     15295     15517     15830     16103     16540     16862     17111  \n",
       "\n",
       "[5 rows x 311 columns]"
      ],
      "text/html": "<div>\n<style scoped>\n    .dataframe tbody tr th:only-of-type {\n        vertical-align: middle;\n    }\n\n    .dataframe tbody tr th {\n        vertical-align: top;\n    }\n\n    .dataframe thead th {\n        text-align: right;\n    }\n</style>\n<table border=\"1\" class=\"dataframe\">\n  <thead>\n    <tr style=\"text-align: right;\">\n      <th></th>\n      <th>countyFIPS</th>\n      <th>County Name</th>\n      <th>State</th>\n      <th>stateFIPS</th>\n      <th>1/22/20</th>\n      <th>1/23/20</th>\n      <th>1/24/20</th>\n      <th>1/25/20</th>\n      <th>1/26/20</th>\n      <th>1/27/20</th>\n      <th>...</th>\n      <th>11/14/20</th>\n      <th>11/15/20</th>\n      <th>11/16/20</th>\n      <th>11/17/20</th>\n      <th>11/18/20</th>\n      <th>11/19/20</th>\n      <th>11/20/20</th>\n      <th>11/21/20</th>\n      <th>11/22/20</th>\n      <th>11/23/20</th>\n    </tr>\n  </thead>\n  <tbody>\n    <tr>\n      <th>0</th>\n      <td>0</td>\n      <td>Statewide Unallocated</td>\n      <td>NJ</td>\n      <td>34</td>\n      <td>0</td>\n      <td>0</td>\n      <td>0</td>\n      <td>0</td>\n      <td>0</td>\n      <td>0</td>\n      <td>...</td>\n      <td>652</td>\n      <td>669</td>\n      <td>669</td>\n      <td>706</td>\n      <td>734</td>\n      <td>734</td>\n      <td>640</td>\n      <td>650</td>\n      <td>697</td>\n      <td>724</td>\n    </tr>\n    <tr>\n      <th>1</th>\n      <td>34001</td>\n      <td>Atlantic County</td>\n      <td>NJ</td>\n      <td>34</td>\n      <td>0</td>\n      <td>0</td>\n      <td>0</td>\n      <td>0</td>\n      <td>0</td>\n      <td>0</td>\n      <td>...</td>\n      <td>6448</td>\n      <td>6555</td>\n      <td>6608</td>\n      <td>6728</td>\n      <td>6829</td>\n      <td>6920</td>\n      <td>7023</td>\n      <td>7162</td>\n      <td>7257</td>\n      <td>7341</td>\n    </tr>\n    <tr>\n      <th>2</th>\n      <td>34003</td>\n      <td>Bergen County</td>\n      <td>NJ</td>\n      <td>34</td>\n      <td>0</td>\n      <td>0</td>\n      <td>0</td>\n      <td>0</td>\n      <td>0</td>\n      <td>0</td>\n      <td>...</td>\n      <td>28821</td>\n      <td>29223</td>\n      <td>29409</td>\n      <td>29800</td>\n      <td>30224</td>\n      <td>30666</td>\n      <td>31006</td>\n      <td>31447</td>\n      <td>31851</td>\n      <td>32245</td>\n    </tr>\n    <tr>\n      <th>3</th>\n      <td>34005</td>\n      <td>Burlington County</td>\n      <td>NJ</td>\n      <td>34</td>\n      <td>0</td>\n      <td>0</td>\n      <td>0</td>\n      <td>0</td>\n      <td>0</td>\n      <td>0</td>\n      <td>...</td>\n      <td>10222</td>\n      <td>10527</td>\n      <td>10632</td>\n      <td>10849</td>\n      <td>11020</td>\n      <td>11225</td>\n      <td>11411</td>\n      <td>11699</td>\n      <td>11996</td>\n      <td>12174</td>\n    </tr>\n    <tr>\n      <th>4</th>\n      <td>34007</td>\n      <td>Camden County</td>\n      <td>NJ</td>\n      <td>34</td>\n      <td>0</td>\n      <td>0</td>\n      <td>0</td>\n      <td>0</td>\n      <td>0</td>\n      <td>0</td>\n      <td>...</td>\n      <td>14464</td>\n      <td>14863</td>\n      <td>15032</td>\n      <td>15295</td>\n      <td>15517</td>\n      <td>15830</td>\n      <td>16103</td>\n      <td>16540</td>\n      <td>16862</td>\n      <td>17111</td>\n    </tr>\n  </tbody>\n</table>\n<p>5 rows × 311 columns</p>\n</div>"
     },
     "metadata": {},
     "execution_count": 252
    }
   ]
  },
  {
   "cell_type": "code",
   "execution_count": 253,
   "metadata": {},
   "outputs": [
    {
     "output_type": "execute_result",
     "data": {
      "text/plain": [
       "(22, 299)"
      ]
     },
     "metadata": {},
     "execution_count": 253
    }
   ],
   "source": [
    "# Dropping state and January columns\n",
    "cols_to_drop = ['State','stateFIPS',\"1/22/20\",\"1/23/20\",\"1/24/20\",\"1/25/20\",\"1/26/20\",\"1/27/20\",\"1/28/20\",\"1/29/20\",\"1/30/20\",\"1/31/20\"]\n",
    "df = covid_NJ.drop(columns=cols_to_drop, axis=1)\n",
    "df.shape\n"
   ]
  },
  {
   "cell_type": "code",
   "execution_count": 254,
   "metadata": {},
   "outputs": [
    {
     "output_type": "execute_result",
     "data": {
      "text/plain": [
       "   countyFIPS            County Name  2/1/20  2/2/20  2/3/20  2/4/20  2/5/20  \\\n",
       "0           0  Statewide Unallocated       0       0       0       0       0   \n",
       "1       34001        Atlantic County       0       0       0       0       0   \n",
       "2       34003          Bergen County       0       0       0       0       0   \n",
       "\n",
       "   2/6/20  2/7/20  2/8/20  ...  11/14/20  11/15/20  11/16/20  11/17/20  \\\n",
       "0       0       0       0  ...       652       669       669       706   \n",
       "1       0       0       0  ...      6448      6555      6608      6728   \n",
       "2       0       0       0  ...     28821     29223     29409     29800   \n",
       "\n",
       "   11/18/20  11/19/20  11/20/20  11/21/20  11/22/20  11/23/20  \n",
       "0       734       734       640       650       697       724  \n",
       "1      6829      6920      7023      7162      7257      7341  \n",
       "2     30224     30666     31006     31447     31851     32245  \n",
       "\n",
       "[3 rows x 299 columns]"
      ],
      "text/html": "<div>\n<style scoped>\n    .dataframe tbody tr th:only-of-type {\n        vertical-align: middle;\n    }\n\n    .dataframe tbody tr th {\n        vertical-align: top;\n    }\n\n    .dataframe thead th {\n        text-align: right;\n    }\n</style>\n<table border=\"1\" class=\"dataframe\">\n  <thead>\n    <tr style=\"text-align: right;\">\n      <th></th>\n      <th>countyFIPS</th>\n      <th>County Name</th>\n      <th>2/1/20</th>\n      <th>2/2/20</th>\n      <th>2/3/20</th>\n      <th>2/4/20</th>\n      <th>2/5/20</th>\n      <th>2/6/20</th>\n      <th>2/7/20</th>\n      <th>2/8/20</th>\n      <th>...</th>\n      <th>11/14/20</th>\n      <th>11/15/20</th>\n      <th>11/16/20</th>\n      <th>11/17/20</th>\n      <th>11/18/20</th>\n      <th>11/19/20</th>\n      <th>11/20/20</th>\n      <th>11/21/20</th>\n      <th>11/22/20</th>\n      <th>11/23/20</th>\n    </tr>\n  </thead>\n  <tbody>\n    <tr>\n      <th>0</th>\n      <td>0</td>\n      <td>Statewide Unallocated</td>\n      <td>0</td>\n      <td>0</td>\n      <td>0</td>\n      <td>0</td>\n      <td>0</td>\n      <td>0</td>\n      <td>0</td>\n      <td>0</td>\n      <td>...</td>\n      <td>652</td>\n      <td>669</td>\n      <td>669</td>\n      <td>706</td>\n      <td>734</td>\n      <td>734</td>\n      <td>640</td>\n      <td>650</td>\n      <td>697</td>\n      <td>724</td>\n    </tr>\n    <tr>\n      <th>1</th>\n      <td>34001</td>\n      <td>Atlantic County</td>\n      <td>0</td>\n      <td>0</td>\n      <td>0</td>\n      <td>0</td>\n      <td>0</td>\n      <td>0</td>\n      <td>0</td>\n      <td>0</td>\n      <td>...</td>\n      <td>6448</td>\n      <td>6555</td>\n      <td>6608</td>\n      <td>6728</td>\n      <td>6829</td>\n      <td>6920</td>\n      <td>7023</td>\n      <td>7162</td>\n      <td>7257</td>\n      <td>7341</td>\n    </tr>\n    <tr>\n      <th>2</th>\n      <td>34003</td>\n      <td>Bergen County</td>\n      <td>0</td>\n      <td>0</td>\n      <td>0</td>\n      <td>0</td>\n      <td>0</td>\n      <td>0</td>\n      <td>0</td>\n      <td>0</td>\n      <td>...</td>\n      <td>28821</td>\n      <td>29223</td>\n      <td>29409</td>\n      <td>29800</td>\n      <td>30224</td>\n      <td>30666</td>\n      <td>31006</td>\n      <td>31447</td>\n      <td>31851</td>\n      <td>32245</td>\n    </tr>\n  </tbody>\n</table>\n<p>3 rows × 299 columns</p>\n</div>"
     },
     "metadata": {},
     "execution_count": 254
    }
   ],
   "source": [
    "df.head(3)"
   ]
  },
  {
   "cell_type": "code",
   "execution_count": 255,
   "metadata": {},
   "outputs": [
    {
     "output_type": "execute_result",
     "data": {
      "text/plain": [
       "   countyFIPS        County Name  2/1/20  2/2/20  2/3/20  2/4/20  2/5/20  \\\n",
       "1       34001    Atlantic County       0       0       0       0       0   \n",
       "2       34003      Bergen County       0       0       0       0       0   \n",
       "3       34005  Burlington County       0       0       0       0       0   \n",
       "\n",
       "   2/6/20  2/7/20  2/8/20  ...  11/14/20  11/15/20  11/16/20  11/17/20  \\\n",
       "1       0       0       0  ...      6448      6555      6608      6728   \n",
       "2       0       0       0  ...     28821     29223     29409     29800   \n",
       "3       0       0       0  ...     10222     10527     10632     10849   \n",
       "\n",
       "   11/18/20  11/19/20  11/20/20  11/21/20  11/22/20  11/23/20  \n",
       "1      6829      6920      7023      7162      7257      7341  \n",
       "2     30224     30666     31006     31447     31851     32245  \n",
       "3     11020     11225     11411     11699     11996     12174  \n",
       "\n",
       "[3 rows x 299 columns]"
      ],
      "text/html": "<div>\n<style scoped>\n    .dataframe tbody tr th:only-of-type {\n        vertical-align: middle;\n    }\n\n    .dataframe tbody tr th {\n        vertical-align: top;\n    }\n\n    .dataframe thead th {\n        text-align: right;\n    }\n</style>\n<table border=\"1\" class=\"dataframe\">\n  <thead>\n    <tr style=\"text-align: right;\">\n      <th></th>\n      <th>countyFIPS</th>\n      <th>County Name</th>\n      <th>2/1/20</th>\n      <th>2/2/20</th>\n      <th>2/3/20</th>\n      <th>2/4/20</th>\n      <th>2/5/20</th>\n      <th>2/6/20</th>\n      <th>2/7/20</th>\n      <th>2/8/20</th>\n      <th>...</th>\n      <th>11/14/20</th>\n      <th>11/15/20</th>\n      <th>11/16/20</th>\n      <th>11/17/20</th>\n      <th>11/18/20</th>\n      <th>11/19/20</th>\n      <th>11/20/20</th>\n      <th>11/21/20</th>\n      <th>11/22/20</th>\n      <th>11/23/20</th>\n    </tr>\n  </thead>\n  <tbody>\n    <tr>\n      <th>1</th>\n      <td>34001</td>\n      <td>Atlantic County</td>\n      <td>0</td>\n      <td>0</td>\n      <td>0</td>\n      <td>0</td>\n      <td>0</td>\n      <td>0</td>\n      <td>0</td>\n      <td>0</td>\n      <td>...</td>\n      <td>6448</td>\n      <td>6555</td>\n      <td>6608</td>\n      <td>6728</td>\n      <td>6829</td>\n      <td>6920</td>\n      <td>7023</td>\n      <td>7162</td>\n      <td>7257</td>\n      <td>7341</td>\n    </tr>\n    <tr>\n      <th>2</th>\n      <td>34003</td>\n      <td>Bergen County</td>\n      <td>0</td>\n      <td>0</td>\n      <td>0</td>\n      <td>0</td>\n      <td>0</td>\n      <td>0</td>\n      <td>0</td>\n      <td>0</td>\n      <td>...</td>\n      <td>28821</td>\n      <td>29223</td>\n      <td>29409</td>\n      <td>29800</td>\n      <td>30224</td>\n      <td>30666</td>\n      <td>31006</td>\n      <td>31447</td>\n      <td>31851</td>\n      <td>32245</td>\n    </tr>\n    <tr>\n      <th>3</th>\n      <td>34005</td>\n      <td>Burlington County</td>\n      <td>0</td>\n      <td>0</td>\n      <td>0</td>\n      <td>0</td>\n      <td>0</td>\n      <td>0</td>\n      <td>0</td>\n      <td>0</td>\n      <td>...</td>\n      <td>10222</td>\n      <td>10527</td>\n      <td>10632</td>\n      <td>10849</td>\n      <td>11020</td>\n      <td>11225</td>\n      <td>11411</td>\n      <td>11699</td>\n      <td>11996</td>\n      <td>12174</td>\n    </tr>\n  </tbody>\n</table>\n<p>3 rows × 299 columns</p>\n</div>"
     },
     "metadata": {},
     "execution_count": 255
    }
   ],
   "source": [
    "# Drop first row  - Statewide Unallocated\n",
    "df=df[1:]\n",
    "df.head(3)"
   ]
  },
  {
   "cell_type": "code",
   "execution_count": 256,
   "metadata": {},
   "outputs": [
    {
     "output_type": "execute_result",
     "data": {
      "text/plain": [
       "   countyFIPS        County Name  Feb-20  Mar-20  Apr-20  May-20  Jun-20  \\\n",
       "1       34001    Atlantic County       0     164   11294   51979   76442   \n",
       "2       34003      Bergen County       0   15881  322111  534325  565409   \n",
       "3       34005  Burlington County       0    1035   41494  118942  147543   \n",
       "4       34007      Camden County       0    1111   52623  163864  209890   \n",
       "5       34009    Cape May County       0      65    5185   15158   20168   \n",
       "\n",
       "   Jul-20  Aug-20  Sep-20  Oct-20  Nov-20  \n",
       "1   95780  110715  117629  144160  143979  \n",
       "2  618411  653323  661720  734944  652622  \n",
       "3  168521  189993  204122  241893  232633  \n",
       "4  241403  271588  286980  333831  325598  \n",
       "5   23257   26431   29235   33289   30100  "
      ],
      "text/html": "<div>\n<style scoped>\n    .dataframe tbody tr th:only-of-type {\n        vertical-align: middle;\n    }\n\n    .dataframe tbody tr th {\n        vertical-align: top;\n    }\n\n    .dataframe thead th {\n        text-align: right;\n    }\n</style>\n<table border=\"1\" class=\"dataframe\">\n  <thead>\n    <tr style=\"text-align: right;\">\n      <th></th>\n      <th>countyFIPS</th>\n      <th>County Name</th>\n      <th>Feb-20</th>\n      <th>Mar-20</th>\n      <th>Apr-20</th>\n      <th>May-20</th>\n      <th>Jun-20</th>\n      <th>Jul-20</th>\n      <th>Aug-20</th>\n      <th>Sep-20</th>\n      <th>Oct-20</th>\n      <th>Nov-20</th>\n    </tr>\n  </thead>\n  <tbody>\n    <tr>\n      <th>1</th>\n      <td>34001</td>\n      <td>Atlantic County</td>\n      <td>0</td>\n      <td>164</td>\n      <td>11294</td>\n      <td>51979</td>\n      <td>76442</td>\n      <td>95780</td>\n      <td>110715</td>\n      <td>117629</td>\n      <td>144160</td>\n      <td>143979</td>\n    </tr>\n    <tr>\n      <th>2</th>\n      <td>34003</td>\n      <td>Bergen County</td>\n      <td>0</td>\n      <td>15881</td>\n      <td>322111</td>\n      <td>534325</td>\n      <td>565409</td>\n      <td>618411</td>\n      <td>653323</td>\n      <td>661720</td>\n      <td>734944</td>\n      <td>652622</td>\n    </tr>\n    <tr>\n      <th>3</th>\n      <td>34005</td>\n      <td>Burlington County</td>\n      <td>0</td>\n      <td>1035</td>\n      <td>41494</td>\n      <td>118942</td>\n      <td>147543</td>\n      <td>168521</td>\n      <td>189993</td>\n      <td>204122</td>\n      <td>241893</td>\n      <td>232633</td>\n    </tr>\n    <tr>\n      <th>4</th>\n      <td>34007</td>\n      <td>Camden County</td>\n      <td>0</td>\n      <td>1111</td>\n      <td>52623</td>\n      <td>163864</td>\n      <td>209890</td>\n      <td>241403</td>\n      <td>271588</td>\n      <td>286980</td>\n      <td>333831</td>\n      <td>325598</td>\n    </tr>\n    <tr>\n      <th>5</th>\n      <td>34009</td>\n      <td>Cape May County</td>\n      <td>0</td>\n      <td>65</td>\n      <td>5185</td>\n      <td>15158</td>\n      <td>20168</td>\n      <td>23257</td>\n      <td>26431</td>\n      <td>29235</td>\n      <td>33289</td>\n      <td>30100</td>\n    </tr>\n  </tbody>\n</table>\n</div>"
     },
     "metadata": {},
     "execution_count": 256
    }
   ],
   "source": [
    "# Get totals for each month\n",
    "\n",
    "df['Feb-20']=df.loc[:, \"2/1/20\":\"2/29/20\"].sum(axis=1)\n",
    "df['Mar-20']=df.loc[:, \"3/1/20\":\"3/31/20\"].sum(axis=1)\n",
    "df['Apr-20']=df.loc[:, \"4/1/20\":\"4/30/20\"].sum(axis=1)\n",
    "df['May-20']=df.loc[:, \"5/1/20\":\"5/31/20\"].sum(axis=1)\n",
    "df['Jun-20']=df.loc[:, \"6/1/20\":\"6/30/20\"].sum(axis=1)\n",
    "df['Jul-20']=df.loc[:, \"7/1/20\":\"7/31/20\"].sum(axis=1)\n",
    "df['Aug-20']=df.loc[:, \"8/1/20\":\"8/31/20\"].sum(axis=1)\n",
    "df['Sep-20']=df.loc[:, \"9/1/20\":\"9/30/20\"].sum(axis=1)\n",
    "df['Oct-20']=df.loc[:, \"10/1/20\":\"10/31/20\"].sum(axis=1)\n",
    "df['Nov-20']=df.loc[:, \"11/1/20\":\"11/23/20\"].sum(axis=1)\n",
    "\n",
    "df_total=df[['countyFIPS',\"County Name\",'Feb-20','Mar-20','Apr-20', 'May-20','Jun-20','Jul-20','Aug-20','Sep-20','Oct-20','Nov-20']]\n",
    "df_total.head()"
   ]
  },
  {
   "cell_type": "code",
   "execution_count": 257,
   "metadata": {},
   "outputs": [
    {
     "output_type": "execute_result",
     "data": {
      "text/plain": [
       "(21, 12)"
      ]
     },
     "metadata": {},
     "execution_count": 257
    }
   ],
   "source": [
    "df_total.shape"
   ]
  },
  {
   "cell_type": "code",
   "execution_count": 258,
   "metadata": {},
   "outputs": [],
   "source": [
    "df_total.to_csv('./data/df_total.csv')"
   ]
  },
  {
   "cell_type": "code",
   "execution_count": 259,
   "metadata": {},
   "outputs": [
    {
     "output_type": "execute_result",
     "data": {
      "text/plain": [
       "     countyFIPS      County Name Month_Year   Cases\n",
       "0         34001  Atlantic County     Feb-20       0\n",
       "84        34001  Atlantic County     Jun-20   76442\n",
       "126       34001  Atlantic County     Aug-20  110715\n",
       "63        34001  Atlantic County     May-20   51979\n",
       "147       34001  Atlantic County     Sep-20  117629"
      ],
      "text/html": "<div>\n<style scoped>\n    .dataframe tbody tr th:only-of-type {\n        vertical-align: middle;\n    }\n\n    .dataframe tbody tr th {\n        vertical-align: top;\n    }\n\n    .dataframe thead th {\n        text-align: right;\n    }\n</style>\n<table border=\"1\" class=\"dataframe\">\n  <thead>\n    <tr style=\"text-align: right;\">\n      <th></th>\n      <th>countyFIPS</th>\n      <th>County Name</th>\n      <th>Month_Year</th>\n      <th>Cases</th>\n    </tr>\n  </thead>\n  <tbody>\n    <tr>\n      <th>0</th>\n      <td>34001</td>\n      <td>Atlantic County</td>\n      <td>Feb-20</td>\n      <td>0</td>\n    </tr>\n    <tr>\n      <th>84</th>\n      <td>34001</td>\n      <td>Atlantic County</td>\n      <td>Jun-20</td>\n      <td>76442</td>\n    </tr>\n    <tr>\n      <th>126</th>\n      <td>34001</td>\n      <td>Atlantic County</td>\n      <td>Aug-20</td>\n      <td>110715</td>\n    </tr>\n    <tr>\n      <th>63</th>\n      <td>34001</td>\n      <td>Atlantic County</td>\n      <td>May-20</td>\n      <td>51979</td>\n    </tr>\n    <tr>\n      <th>147</th>\n      <td>34001</td>\n      <td>Atlantic County</td>\n      <td>Sep-20</td>\n      <td>117629</td>\n    </tr>\n  </tbody>\n</table>\n</div>"
     },
     "metadata": {},
     "execution_count": 259
    }
   ],
   "source": [
    "df_final = df_total.melt(id_vars=['countyFIPS','County Name'], var_name='Month_Year',value_name='Cases').sort_values('countyFIPS')\n",
    "df_final.head()"
   ]
  },
  {
   "cell_type": "code",
   "execution_count": 290,
   "metadata": {},
   "outputs": [
    {
     "output_type": "execute_result",
     "data": {
      "text/plain": [
       "     countyFIPS      County Name Month_Year   Cases Month_c  Month Year\n",
       "0         34001  Atlantic County     Feb-20       0     Feb      2   20\n",
       "84        34001  Atlantic County     Jun-20   76442     Jun      6   20\n",
       "126       34001  Atlantic County     Aug-20  110715     Aug      8   20\n",
       "63        34001  Atlantic County     May-20   51979     May      5   20\n",
       "147       34001  Atlantic County     Sep-20  117629     Sep      9   20"
      ],
      "text/html": "<div>\n<style scoped>\n    .dataframe tbody tr th:only-of-type {\n        vertical-align: middle;\n    }\n\n    .dataframe tbody tr th {\n        vertical-align: top;\n    }\n\n    .dataframe thead th {\n        text-align: right;\n    }\n</style>\n<table border=\"1\" class=\"dataframe\">\n  <thead>\n    <tr style=\"text-align: right;\">\n      <th></th>\n      <th>countyFIPS</th>\n      <th>County Name</th>\n      <th>Month_Year</th>\n      <th>Cases</th>\n      <th>Month_c</th>\n      <th>Month</th>\n      <th>Year</th>\n    </tr>\n  </thead>\n  <tbody>\n    <tr>\n      <th>0</th>\n      <td>34001</td>\n      <td>Atlantic County</td>\n      <td>Feb-20</td>\n      <td>0</td>\n      <td>Feb</td>\n      <td>2</td>\n      <td>20</td>\n    </tr>\n    <tr>\n      <th>84</th>\n      <td>34001</td>\n      <td>Atlantic County</td>\n      <td>Jun-20</td>\n      <td>76442</td>\n      <td>Jun</td>\n      <td>6</td>\n      <td>20</td>\n    </tr>\n    <tr>\n      <th>126</th>\n      <td>34001</td>\n      <td>Atlantic County</td>\n      <td>Aug-20</td>\n      <td>110715</td>\n      <td>Aug</td>\n      <td>8</td>\n      <td>20</td>\n    </tr>\n    <tr>\n      <th>63</th>\n      <td>34001</td>\n      <td>Atlantic County</td>\n      <td>May-20</td>\n      <td>51979</td>\n      <td>May</td>\n      <td>5</td>\n      <td>20</td>\n    </tr>\n    <tr>\n      <th>147</th>\n      <td>34001</td>\n      <td>Atlantic County</td>\n      <td>Sep-20</td>\n      <td>117629</td>\n      <td>Sep</td>\n      <td>9</td>\n      <td>20</td>\n    </tr>\n  </tbody>\n</table>\n</div>"
     },
     "metadata": {},
     "execution_count": 290
    }
   ],
   "source": [
    "# create a numeric month column\n",
    "month_dict = {\"Jan\": 1, \"Feb\": 2, \"Mar\": 3, \"Apr\": 4, \"May\": 5, \"Jun\": 6, \"Jul\": 7, \"Aug\": 8, \"Sep\": 9, \"Oct\": 10, \"Nov\": 11, \"Dec\": 12}\n",
    "df_final['Month_c'] = df_final['Month_Year'].str.slice(0, 3) \n",
    "df_final['Month'] = df_final.Month_c.map(month_dict)\n",
    "df_final['Year'] = '20'\n",
    "df_final.head()"
   ]
  },
  {
   "cell_type": "code",
   "execution_count": 335,
   "metadata": {},
   "outputs": [
    {
     "output_type": "execute_result",
     "data": {
      "text/plain": [
       "    countyFIPS      County Name Month_Year  Cases Month_c  Month Year\n",
       "0        34001  Atlantic County     Feb-20      0     Feb      2   20\n",
       "21       34001  Atlantic County     Mar-20    164     Mar      3   20\n",
       "42       34001  Atlantic County     Apr-20  11294     Apr      4   20\n",
       "63       34001  Atlantic County     May-20  51979     May      5   20\n",
       "84       34001  Atlantic County     Jun-20  76442     Jun      6   20"
      ],
      "text/html": "<div>\n<style scoped>\n    .dataframe tbody tr th:only-of-type {\n        vertical-align: middle;\n    }\n\n    .dataframe tbody tr th {\n        vertical-align: top;\n    }\n\n    .dataframe thead th {\n        text-align: right;\n    }\n</style>\n<table border=\"1\" class=\"dataframe\">\n  <thead>\n    <tr style=\"text-align: right;\">\n      <th></th>\n      <th>countyFIPS</th>\n      <th>County Name</th>\n      <th>Month_Year</th>\n      <th>Cases</th>\n      <th>Month_c</th>\n      <th>Month</th>\n      <th>Year</th>\n    </tr>\n  </thead>\n  <tbody>\n    <tr>\n      <th>0</th>\n      <td>34001</td>\n      <td>Atlantic County</td>\n      <td>Feb-20</td>\n      <td>0</td>\n      <td>Feb</td>\n      <td>2</td>\n      <td>20</td>\n    </tr>\n    <tr>\n      <th>21</th>\n      <td>34001</td>\n      <td>Atlantic County</td>\n      <td>Mar-20</td>\n      <td>164</td>\n      <td>Mar</td>\n      <td>3</td>\n      <td>20</td>\n    </tr>\n    <tr>\n      <th>42</th>\n      <td>34001</td>\n      <td>Atlantic County</td>\n      <td>Apr-20</td>\n      <td>11294</td>\n      <td>Apr</td>\n      <td>4</td>\n      <td>20</td>\n    </tr>\n    <tr>\n      <th>63</th>\n      <td>34001</td>\n      <td>Atlantic County</td>\n      <td>May-20</td>\n      <td>51979</td>\n      <td>May</td>\n      <td>5</td>\n      <td>20</td>\n    </tr>\n    <tr>\n      <th>84</th>\n      <td>34001</td>\n      <td>Atlantic County</td>\n      <td>Jun-20</td>\n      <td>76442</td>\n      <td>Jun</td>\n      <td>6</td>\n      <td>20</td>\n    </tr>\n  </tbody>\n</table>\n</div>"
     },
     "metadata": {},
     "execution_count": 335
    }
   ],
   "source": [
    "df_final_s = df_final.sort_values(['countyFIPS','Month'])\n",
    "df_final_s.head()"
   ]
  },
  {
   "cell_type": "code",
   "execution_count": 338,
   "metadata": {},
   "outputs": [
    {
     "output_type": "execute_result",
     "data": {
      "text/plain": [
       "   countyFIPS      County Name Month_Year  Cases Month_c  Month Year  \\\n",
       "0       34001  Atlantic County     Feb-20      0     Feb      2   20   \n",
       "21      34001  Atlantic County     Mar-20    164     Mar      3   20   \n",
       "42      34001  Atlantic County     Apr-20  11294     Apr      4   20   \n",
       "63      34001  Atlantic County     May-20  51979     May      5   20   \n",
       "84      34001  Atlantic County     Jun-20  76442     Jun      6   20   \n",
       "\n",
       "   County_FIPS  \n",
       "0          001  \n",
       "21         001  \n",
       "42         001  \n",
       "63         001  \n",
       "84         001  "
      ],
      "text/html": "<div>\n<style scoped>\n    .dataframe tbody tr th:only-of-type {\n        vertical-align: middle;\n    }\n\n    .dataframe tbody tr th {\n        vertical-align: top;\n    }\n\n    .dataframe thead th {\n        text-align: right;\n    }\n</style>\n<table border=\"1\" class=\"dataframe\">\n  <thead>\n    <tr style=\"text-align: right;\">\n      <th></th>\n      <th>countyFIPS</th>\n      <th>County Name</th>\n      <th>Month_Year</th>\n      <th>Cases</th>\n      <th>Month_c</th>\n      <th>Month</th>\n      <th>Year</th>\n      <th>County_FIPS</th>\n    </tr>\n  </thead>\n  <tbody>\n    <tr>\n      <th>0</th>\n      <td>34001</td>\n      <td>Atlantic County</td>\n      <td>Feb-20</td>\n      <td>0</td>\n      <td>Feb</td>\n      <td>2</td>\n      <td>20</td>\n      <td>001</td>\n    </tr>\n    <tr>\n      <th>21</th>\n      <td>34001</td>\n      <td>Atlantic County</td>\n      <td>Mar-20</td>\n      <td>164</td>\n      <td>Mar</td>\n      <td>3</td>\n      <td>20</td>\n      <td>001</td>\n    </tr>\n    <tr>\n      <th>42</th>\n      <td>34001</td>\n      <td>Atlantic County</td>\n      <td>Apr-20</td>\n      <td>11294</td>\n      <td>Apr</td>\n      <td>4</td>\n      <td>20</td>\n      <td>001</td>\n    </tr>\n    <tr>\n      <th>63</th>\n      <td>34001</td>\n      <td>Atlantic County</td>\n      <td>May-20</td>\n      <td>51979</td>\n      <td>May</td>\n      <td>5</td>\n      <td>20</td>\n      <td>001</td>\n    </tr>\n    <tr>\n      <th>84</th>\n      <td>34001</td>\n      <td>Atlantic County</td>\n      <td>Jun-20</td>\n      <td>76442</td>\n      <td>Jun</td>\n      <td>6</td>\n      <td>20</td>\n      <td>001</td>\n    </tr>\n  </tbody>\n</table>\n</div>"
     },
     "metadata": {},
     "execution_count": 338
    }
   ],
   "source": [
    "df_final_s['countyFIPS'] = df_final_s['countyFIPS'].astype(str)\n",
    "df_final_s['County_FIPS']  = df_final_s['countyFIPS'].str.slice(2,) \n",
    "df_final_s.head()"
   ]
  },
  {
   "cell_type": "code",
   "execution_count": 339,
   "metadata": {},
   "outputs": [],
   "source": [
    "df_final_s.to_csv('./data/covid_transformed.csv')"
   ]
  },
  {
   "cell_type": "code",
   "execution_count": 340,
   "metadata": {},
   "outputs": [
    {
     "output_type": "stream",
     "name": "stdout",
     "text": [
      "<class 'pandas.core.frame.DataFrame'>\nInt64Index: 210 entries, 0 to 209\nData columns (total 8 columns):\n #   Column       Non-Null Count  Dtype \n---  ------       --------------  ----- \n 0   countyFIPS   210 non-null    object\n 1   County Name  210 non-null    object\n 2   Month_Year   210 non-null    object\n 3   Cases        210 non-null    int64 \n 4   Month_c      210 non-null    object\n 5   Month        210 non-null    int64 \n 6   Year         210 non-null    object\n 7   County_FIPS  210 non-null    object\ndtypes: int64(2), object(6)\nmemory usage: 14.8+ KB\n"
     ]
    }
   ],
   "source": [
    "df_final_s.info()"
   ]
  },
  {
   "cell_type": "code",
   "execution_count": 263,
   "metadata": {},
   "outputs": [],
   "source": [
    "# EMPLOYMENT DATA"
   ]
  },
  {
   "cell_type": "code",
   "execution_count": 325,
   "metadata": {},
   "outputs": [
    {
     "output_type": "execute_result",
     "data": {
      "text/plain": [
       "(45069, 11)"
      ]
     },
     "metadata": {},
     "execution_count": 325
    }
   ],
   "source": [
    "employment_df=pd.read_excel(\"./data/laucntycur14_v1.xlsx\", dtype=str)\n",
    "employment_df.shape"
   ]
  },
  {
   "cell_type": "code",
   "execution_count": 326,
   "metadata": {},
   "outputs": [
    {
     "output_type": "execute_result",
     "data": {
      "text/plain": [
       "         LAUS Code State FIPS Code County FIPS Code     County Name  \\\n",
       "0  CN0100100000000              01                1  Autauga County   \n",
       "1  CN0100300000000              01                3  Baldwin County   \n",
       "2  CN0100500000000              01                5  Barbour County   \n",
       "\n",
       "  State Abbreviation Month_Year Year Labor Force Employed Unemployed  \\\n",
       "0                 AL        Aug   19       26079    25368        711   \n",
       "1                 AL        Aug   19       97939    95367       2572   \n",
       "2                 AL        Aug   19        8652     8322        330   \n",
       "\n",
       "  Unemployment Rate (%)  \n",
       "0                   2.7  \n",
       "1                   2.6  \n",
       "2                   3.8  "
      ],
      "text/html": "<div>\n<style scoped>\n    .dataframe tbody tr th:only-of-type {\n        vertical-align: middle;\n    }\n\n    .dataframe tbody tr th {\n        vertical-align: top;\n    }\n\n    .dataframe thead th {\n        text-align: right;\n    }\n</style>\n<table border=\"1\" class=\"dataframe\">\n  <thead>\n    <tr style=\"text-align: right;\">\n      <th></th>\n      <th>LAUS Code</th>\n      <th>State FIPS Code</th>\n      <th>County FIPS Code</th>\n      <th>County Name</th>\n      <th>State Abbreviation</th>\n      <th>Month_Year</th>\n      <th>Year</th>\n      <th>Labor Force</th>\n      <th>Employed</th>\n      <th>Unemployed</th>\n      <th>Unemployment Rate (%)</th>\n    </tr>\n  </thead>\n  <tbody>\n    <tr>\n      <th>0</th>\n      <td>CN0100100000000</td>\n      <td>01</td>\n      <td>1</td>\n      <td>Autauga County</td>\n      <td>AL</td>\n      <td>Aug</td>\n      <td>19</td>\n      <td>26079</td>\n      <td>25368</td>\n      <td>711</td>\n      <td>2.7</td>\n    </tr>\n    <tr>\n      <th>1</th>\n      <td>CN0100300000000</td>\n      <td>01</td>\n      <td>3</td>\n      <td>Baldwin County</td>\n      <td>AL</td>\n      <td>Aug</td>\n      <td>19</td>\n      <td>97939</td>\n      <td>95367</td>\n      <td>2572</td>\n      <td>2.6</td>\n    </tr>\n    <tr>\n      <th>2</th>\n      <td>CN0100500000000</td>\n      <td>01</td>\n      <td>5</td>\n      <td>Barbour County</td>\n      <td>AL</td>\n      <td>Aug</td>\n      <td>19</td>\n      <td>8652</td>\n      <td>8322</td>\n      <td>330</td>\n      <td>3.8</td>\n    </tr>\n  </tbody>\n</table>\n</div>"
     },
     "metadata": {},
     "execution_count": 326
    }
   ],
   "source": [
    "employment_df.head(3)"
   ]
  },
  {
   "cell_type": "code",
   "execution_count": 327,
   "metadata": {},
   "outputs": [
    {
     "output_type": "stream",
     "name": "stdout",
     "text": [
      "<class 'pandas.core.frame.DataFrame'>\nRangeIndex: 0 entries\nData columns (total 11 columns):\n #   Column                 Non-Null Count  Dtype  \n---  ------                 --------------  -----  \n 0   LAUS Code              0 non-null      object \n 1   State FIPS Code        0 non-null      float64\n 2   County FIPS Code       0 non-null      object \n 3   County Name            0 non-null      object \n 4   State Abbreviation     0 non-null      object \n 5   Month_Year             0 non-null      object \n 6   Year                   0 non-null      object \n 7   Labor Force            0 non-null      object \n 8   Employed               0 non-null      object \n 9   Unemployed             0 non-null      object \n 10  Unemployment Rate (%)  0 non-null      object \ndtypes: float64(1), object(10)\nmemory usage: 124.0+ bytes\n"
     ]
    }
   ],
   "source": [
    " empl_NJ_df.info()"
   ]
  },
  {
   "cell_type": "code",
   "execution_count": 344,
   "metadata": {},
   "outputs": [
    {
     "output_type": "execute_result",
     "data": {
      "text/plain": [
       "(294, 11)"
      ]
     },
     "metadata": {},
     "execution_count": 344
    }
   ],
   "source": [
    "empl_NJ_df = employment_df.loc[employment_df['State FIPS Code']=='34']\n",
    "empl_NJ_df.reset_index(drop = True, inplace=True)\n",
    "empl_NJ_df['County FIPS Code'] = empl_NJ_df['County FIPS Code'].str.zfill(3)\n",
    "empl_NJ_df.shape"
   ]
  },
  {
   "cell_type": "code",
   "execution_count": 345,
   "metadata": {},
   "outputs": [
    {
     "output_type": "execute_result",
     "data": {
      "text/plain": [
       "         LAUS Code State FIPS Code County FIPS Code        County Name  \\\n",
       "0  CN3400100000000              34              001    Atlantic County   \n",
       "1  CN3400300000000              34              003      Bergen County   \n",
       "2  CN3400500000000              34              005  Burlington County   \n",
       "3  CN3400700000000              34              007      Camden County   \n",
       "4  CN3400900000000              34              009    Cape May County   \n",
       "\n",
       "  State Abbreviation Month_Year Year Labor Force Employed Unemployed  \\\n",
       "0                 NJ        Aug   19      124209   118285       5924   \n",
       "1                 NJ        Aug   19      482282   466973      15309   \n",
       "2                 NJ        Aug   19      231562   223409       8153   \n",
       "3                 NJ        Aug   19      253992   243189      10803   \n",
       "4                 NJ        Aug   19       55575    53481       2094   \n",
       "\n",
       "  Unemployment Rate (%)  \n",
       "0                   4.8  \n",
       "1                   3.2  \n",
       "2                   3.5  \n",
       "3                   4.3  \n",
       "4                   3.8  "
      ],
      "text/html": "<div>\n<style scoped>\n    .dataframe tbody tr th:only-of-type {\n        vertical-align: middle;\n    }\n\n    .dataframe tbody tr th {\n        vertical-align: top;\n    }\n\n    .dataframe thead th {\n        text-align: right;\n    }\n</style>\n<table border=\"1\" class=\"dataframe\">\n  <thead>\n    <tr style=\"text-align: right;\">\n      <th></th>\n      <th>LAUS Code</th>\n      <th>State FIPS Code</th>\n      <th>County FIPS Code</th>\n      <th>County Name</th>\n      <th>State Abbreviation</th>\n      <th>Month_Year</th>\n      <th>Year</th>\n      <th>Labor Force</th>\n      <th>Employed</th>\n      <th>Unemployed</th>\n      <th>Unemployment Rate (%)</th>\n    </tr>\n  </thead>\n  <tbody>\n    <tr>\n      <th>0</th>\n      <td>CN3400100000000</td>\n      <td>34</td>\n      <td>001</td>\n      <td>Atlantic County</td>\n      <td>NJ</td>\n      <td>Aug</td>\n      <td>19</td>\n      <td>124209</td>\n      <td>118285</td>\n      <td>5924</td>\n      <td>4.8</td>\n    </tr>\n    <tr>\n      <th>1</th>\n      <td>CN3400300000000</td>\n      <td>34</td>\n      <td>003</td>\n      <td>Bergen County</td>\n      <td>NJ</td>\n      <td>Aug</td>\n      <td>19</td>\n      <td>482282</td>\n      <td>466973</td>\n      <td>15309</td>\n      <td>3.2</td>\n    </tr>\n    <tr>\n      <th>2</th>\n      <td>CN3400500000000</td>\n      <td>34</td>\n      <td>005</td>\n      <td>Burlington County</td>\n      <td>NJ</td>\n      <td>Aug</td>\n      <td>19</td>\n      <td>231562</td>\n      <td>223409</td>\n      <td>8153</td>\n      <td>3.5</td>\n    </tr>\n    <tr>\n      <th>3</th>\n      <td>CN3400700000000</td>\n      <td>34</td>\n      <td>007</td>\n      <td>Camden County</td>\n      <td>NJ</td>\n      <td>Aug</td>\n      <td>19</td>\n      <td>253992</td>\n      <td>243189</td>\n      <td>10803</td>\n      <td>4.3</td>\n    </tr>\n    <tr>\n      <th>4</th>\n      <td>CN3400900000000</td>\n      <td>34</td>\n      <td>009</td>\n      <td>Cape May County</td>\n      <td>NJ</td>\n      <td>Aug</td>\n      <td>19</td>\n      <td>55575</td>\n      <td>53481</td>\n      <td>2094</td>\n      <td>3.8</td>\n    </tr>\n  </tbody>\n</table>\n</div>"
     },
     "metadata": {},
     "execution_count": 345
    }
   ],
   "source": [
    "empl_NJ_df.head()"
   ]
  },
  {
   "cell_type": "code",
   "execution_count": 346,
   "metadata": {},
   "outputs": [
    {
     "output_type": "execute_result",
     "data": {
      "text/plain": [
       "   countyFIPS      County Name Month_Year  Cases Month_c  Month Year  \\\n",
       "0       34001  Atlantic County     Feb-20      0     Feb      2   20   \n",
       "21      34001  Atlantic County     Mar-20    164     Mar      3   20   \n",
       "42      34001  Atlantic County     Apr-20  11294     Apr      4   20   \n",
       "63      34001  Atlantic County     May-20  51979     May      5   20   \n",
       "84      34001  Atlantic County     Jun-20  76442     Jun      6   20   \n",
       "\n",
       "   County_FIPS  \n",
       "0          001  \n",
       "21         001  \n",
       "42         001  \n",
       "63         001  \n",
       "84         001  "
      ],
      "text/html": "<div>\n<style scoped>\n    .dataframe tbody tr th:only-of-type {\n        vertical-align: middle;\n    }\n\n    .dataframe tbody tr th {\n        vertical-align: top;\n    }\n\n    .dataframe thead th {\n        text-align: right;\n    }\n</style>\n<table border=\"1\" class=\"dataframe\">\n  <thead>\n    <tr style=\"text-align: right;\">\n      <th></th>\n      <th>countyFIPS</th>\n      <th>County Name</th>\n      <th>Month_Year</th>\n      <th>Cases</th>\n      <th>Month_c</th>\n      <th>Month</th>\n      <th>Year</th>\n      <th>County_FIPS</th>\n    </tr>\n  </thead>\n  <tbody>\n    <tr>\n      <th>0</th>\n      <td>34001</td>\n      <td>Atlantic County</td>\n      <td>Feb-20</td>\n      <td>0</td>\n      <td>Feb</td>\n      <td>2</td>\n      <td>20</td>\n      <td>001</td>\n    </tr>\n    <tr>\n      <th>21</th>\n      <td>34001</td>\n      <td>Atlantic County</td>\n      <td>Mar-20</td>\n      <td>164</td>\n      <td>Mar</td>\n      <td>3</td>\n      <td>20</td>\n      <td>001</td>\n    </tr>\n    <tr>\n      <th>42</th>\n      <td>34001</td>\n      <td>Atlantic County</td>\n      <td>Apr-20</td>\n      <td>11294</td>\n      <td>Apr</td>\n      <td>4</td>\n      <td>20</td>\n      <td>001</td>\n    </tr>\n    <tr>\n      <th>63</th>\n      <td>34001</td>\n      <td>Atlantic County</td>\n      <td>May-20</td>\n      <td>51979</td>\n      <td>May</td>\n      <td>5</td>\n      <td>20</td>\n      <td>001</td>\n    </tr>\n    <tr>\n      <th>84</th>\n      <td>34001</td>\n      <td>Atlantic County</td>\n      <td>Jun-20</td>\n      <td>76442</td>\n      <td>Jun</td>\n      <td>6</td>\n      <td>20</td>\n      <td>001</td>\n    </tr>\n  </tbody>\n</table>\n</div>"
     },
     "metadata": {},
     "execution_count": 346
    }
   ],
   "source": [
    "df_final_s.head()"
   ]
  },
  {
   "cell_type": "code",
   "execution_count": 295,
   "metadata": {},
   "outputs": [],
   "source": [
    "# empl_NJ_df.info()"
   ]
  },
  {
   "cell_type": "code",
   "execution_count": 269,
   "metadata": {},
   "outputs": [],
   "source": [
    "# JOIN COVID AND EMPLOYMENT DATA on County FIPS Code AND MONTH_YEAR"
   ]
  },
  {
   "cell_type": "code",
   "execution_count": 347,
   "metadata": {},
   "outputs": [
    {
     "output_type": "execute_result",
     "data": {
      "text/plain": [
       "  countyFIPS    County Name_x Month_Year_x  Cases Month_c  Month Year  \\\n",
       "0      34001  Atlantic County       Feb-20      0     Feb      2   20   \n",
       "1      34001  Atlantic County       Mar-20    164     Mar      3   20   \n",
       "2      34001  Atlantic County       Apr-20  11294     Apr      4   20   \n",
       "3      34001  Atlantic County       May-20  51979     May      5   20   \n",
       "4      34001  Atlantic County       Jun-20  76442     Jun      6   20   \n",
       "\n",
       "  County_FIPS        LAUS Code State FIPS Code County FIPS Code  \\\n",
       "0         001  CN3400100000000              34              001   \n",
       "1         001  CN3400100000000              34              001   \n",
       "2         001  CN3400100000000              34              001   \n",
       "3         001  CN3400100000000              34              001   \n",
       "4         001  CN3400100000000              34              001   \n",
       "\n",
       "     County Name_y State Abbreviation Month_Year_y Labor Force Employed  \\\n",
       "0  Atlantic County                 NJ          Feb      121288   113570   \n",
       "1  Atlantic County                 NJ          Mar      120344   113532   \n",
       "2  Atlantic County                 NJ          Apr      122476    81068   \n",
       "3  Atlantic County                 NJ          May      123110    83049   \n",
       "4  Atlantic County                 NJ          Jun      130190    85419   \n",
       "\n",
       "  Unemployed Unemployment Rate (%)  \n",
       "0       7718                   6.4  \n",
       "1       6812                   5.7  \n",
       "2      41408                  33.8  \n",
       "3      40061                  32.5  \n",
       "4      44771                  34.4  "
      ],
      "text/html": "<div>\n<style scoped>\n    .dataframe tbody tr th:only-of-type {\n        vertical-align: middle;\n    }\n\n    .dataframe tbody tr th {\n        vertical-align: top;\n    }\n\n    .dataframe thead th {\n        text-align: right;\n    }\n</style>\n<table border=\"1\" class=\"dataframe\">\n  <thead>\n    <tr style=\"text-align: right;\">\n      <th></th>\n      <th>countyFIPS</th>\n      <th>County Name_x</th>\n      <th>Month_Year_x</th>\n      <th>Cases</th>\n      <th>Month_c</th>\n      <th>Month</th>\n      <th>Year</th>\n      <th>County_FIPS</th>\n      <th>LAUS Code</th>\n      <th>State FIPS Code</th>\n      <th>County FIPS Code</th>\n      <th>County Name_y</th>\n      <th>State Abbreviation</th>\n      <th>Month_Year_y</th>\n      <th>Labor Force</th>\n      <th>Employed</th>\n      <th>Unemployed</th>\n      <th>Unemployment Rate (%)</th>\n    </tr>\n  </thead>\n  <tbody>\n    <tr>\n      <th>0</th>\n      <td>34001</td>\n      <td>Atlantic County</td>\n      <td>Feb-20</td>\n      <td>0</td>\n      <td>Feb</td>\n      <td>2</td>\n      <td>20</td>\n      <td>001</td>\n      <td>CN3400100000000</td>\n      <td>34</td>\n      <td>001</td>\n      <td>Atlantic County</td>\n      <td>NJ</td>\n      <td>Feb</td>\n      <td>121288</td>\n      <td>113570</td>\n      <td>7718</td>\n      <td>6.4</td>\n    </tr>\n    <tr>\n      <th>1</th>\n      <td>34001</td>\n      <td>Atlantic County</td>\n      <td>Mar-20</td>\n      <td>164</td>\n      <td>Mar</td>\n      <td>3</td>\n      <td>20</td>\n      <td>001</td>\n      <td>CN3400100000000</td>\n      <td>34</td>\n      <td>001</td>\n      <td>Atlantic County</td>\n      <td>NJ</td>\n      <td>Mar</td>\n      <td>120344</td>\n      <td>113532</td>\n      <td>6812</td>\n      <td>5.7</td>\n    </tr>\n    <tr>\n      <th>2</th>\n      <td>34001</td>\n      <td>Atlantic County</td>\n      <td>Apr-20</td>\n      <td>11294</td>\n      <td>Apr</td>\n      <td>4</td>\n      <td>20</td>\n      <td>001</td>\n      <td>CN3400100000000</td>\n      <td>34</td>\n      <td>001</td>\n      <td>Atlantic County</td>\n      <td>NJ</td>\n      <td>Apr</td>\n      <td>122476</td>\n      <td>81068</td>\n      <td>41408</td>\n      <td>33.8</td>\n    </tr>\n    <tr>\n      <th>3</th>\n      <td>34001</td>\n      <td>Atlantic County</td>\n      <td>May-20</td>\n      <td>51979</td>\n      <td>May</td>\n      <td>5</td>\n      <td>20</td>\n      <td>001</td>\n      <td>CN3400100000000</td>\n      <td>34</td>\n      <td>001</td>\n      <td>Atlantic County</td>\n      <td>NJ</td>\n      <td>May</td>\n      <td>123110</td>\n      <td>83049</td>\n      <td>40061</td>\n      <td>32.5</td>\n    </tr>\n    <tr>\n      <th>4</th>\n      <td>34001</td>\n      <td>Atlantic County</td>\n      <td>Jun-20</td>\n      <td>76442</td>\n      <td>Jun</td>\n      <td>6</td>\n      <td>20</td>\n      <td>001</td>\n      <td>CN3400100000000</td>\n      <td>34</td>\n      <td>001</td>\n      <td>Atlantic County</td>\n      <td>NJ</td>\n      <td>Jun</td>\n      <td>130190</td>\n      <td>85419</td>\n      <td>44771</td>\n      <td>34.4</td>\n    </tr>\n  </tbody>\n</table>\n</div>"
     },
     "metadata": {},
     "execution_count": 347
    }
   ],
   "source": [
    "joined_df = pd.merge(df_final_s, empl_NJ_df, how='left', left_on=[\"County_FIPS\",\"Month_c\",\"Year\"], right_on=[\"County FIPS Code\",\"Month_Year\",\"Year\"])\n",
    "joined_df.head()"
   ]
  },
  {
   "cell_type": "code",
   "execution_count": 348,
   "metadata": {},
   "outputs": [],
   "source": [
    "joined_df.to_csv('./data/covid_employment.csv')"
   ]
  },
  {
   "cell_type": "code",
   "execution_count": 314,
   "metadata": {},
   "outputs": [
    {
     "output_type": "execute_result",
     "data": {
      "text/plain": [
       "(210, 16)"
      ]
     },
     "metadata": {},
     "execution_count": 314
    }
   ],
   "source": [
    "joined_df.shape"
   ]
  },
  {
   "cell_type": "code",
   "execution_count": null,
   "metadata": {},
   "outputs": [],
   "source": [
    "# September unemployment data is partial No data for Oct, Nov - Deleting rows for Sep to Nov"
   ]
  },
  {
   "cell_type": "code",
   "execution_count": 353,
   "metadata": {},
   "outputs": [
    {
     "output_type": "execute_result",
     "data": {
      "text/plain": [
       "(147, 18)"
      ]
     },
     "metadata": {},
     "execution_count": 353
    }
   ],
   "source": [
    "filter1 = joined_df['Month'].isin([2,3,4,5,6,7,8])\n",
    "joined_df_final=joined_df[filter1]\n",
    "joined_df_final.shape"
   ]
  },
  {
   "cell_type": "code",
   "execution_count": 354,
   "metadata": {},
   "outputs": [],
   "source": [
    "joined_df_final.to_csv('./data/joined_df_final.csv')"
   ]
  },
  {
   "cell_type": "code",
   "execution_count": null,
   "metadata": {},
   "outputs": [],
   "source": []
  }
 ]
}